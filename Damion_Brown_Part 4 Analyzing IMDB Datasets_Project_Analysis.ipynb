{
 "cells": [
  {
   "cell_type": "markdown",
   "id": "73bc9548",
   "metadata": {},
   "source": [
    "# Analysis of IMDB Data"
   ]
  },
  {
   "cell_type": "markdown",
   "id": "7679c0c0",
   "metadata": {},
   "source": [
    "We will analyze a subset of IMDB's actors, genres, movie actors, and movie ratings data. This dataset comes to us from Kaggle (https://www.kaggle.com/datasets/ashirwadsangwan/imdb-dataset) although we have taken steps to pull this data into a public S3 bucket: \n",
    "\n",
    "* s3://cis9760-lecture9-movieanalysis/name.basics.new.tsv ---> Name Basics\n",
    "* s3://cis9760-lecture9-movieanalysis/title.basic.new.tsv ---> Title Basics\n",
    "* s3://cis9760-lecture9-movieanalysis/title.principles.new.tsv ---> Title Principles\n",
    "* s3://cis9760-lecture9-movieanalysis/title.ratings.new.tsv ---> Title Ratings\n",
    "\n",
    "Please disregard \"Error displaying widget: model not found\" or \"VBox()\" messages on each ouput. They are not part of the output."
   ]
  },
  {
   "cell_type": "markdown",
   "id": "c1dde3fb",
   "metadata": {},
   "source": [
    "# Content\n",
    "\n",
    "**<br />name.basics.tsv.gz – Contains the following information for names:**\n",
    "<br />nconst (string) - alphanumeric unique identifier of the name/person.\n",
    "<br />primaryName (string)– name by which the person is most often credited.\n",
    "<br />birthYear – in YYYY format.\n",
    "<br />deathYear – in YYYY format if applicable, else .\n",
    "<br />primaryProfession (array of strings)– the top-3 professions of the person.\n",
    "<br />knownForTitles (array of tconsts) – titles the person is known for.\n",
    "<br/><br/>\n",
    "**<br />title.basics.tsv.gz - Contains the following information for titles:**\n",
    "<br />tconst (string) - alphanumeric unique identifier of the title.\n",
    "<br />titleType (string) – the type/format of the title (e.g. movie, short, tvseries, tvepisode, video, etc).\n",
    "<br />primaryTitle (string) – the more popular title / the title used by the filmmakers on promotional materials at the point of release.\n",
    "<br />originalTitle (string) - original title, in the original language.\n",
    "<br />isAdult (boolean) - 0: non-adult title; 1: adult title.\n",
    "<br />startYear (YYYY) – represents the release year of a title. In the case of TV Series, it is the series start year.\n",
    "<br />endYear (YYYY) – TV Series end year. for all other title types.\n",
    "<br />runtimeMinutes – primary runtime of the title, in minutes.\n",
    "<br />genres (string array) – includes up to three genres associated with the title.\n",
    "<br/><br/>\n",
    "**<br />title.principals.tsv – Contains the principal cast/crew for titles:**\n",
    "<br />tconst (string) - alphanumeric unique identifier of the title.\n",
    "<br />ordering (integer) – a number to uniquely identify rows for a given titleId.\n",
    "<br />nconst (string) - alphanumeric unique identifier of the name/person.\n",
    "<br />category (string) - the category of job that person was in.\n",
    "<br />job (string) - the specific job title if applicable, else.\n",
    "<br />characters (string) - the name of the character played if applicable, else.\n",
    "<br/><br/>\n",
    "**<br />title.ratings.tsv.gz – Contains the IMDb rating and votes information for titles:**\n",
    "<br />tconst (string) - alphanumeric unique identifier of the title.\n",
    "<br />averageRating – weighted average of all the individual user ratings.\n",
    "<br />numVotes - number of votes the title has received."
   ]
  },
  {
   "cell_type": "markdown",
   "id": "08416e6e",
   "metadata": {},
   "source": [
    "# PART 1 - Installation and Initial Setup"
   ]
  },
  {
   "cell_type": "markdown",
   "id": "04b07b9f",
   "metadata": {},
   "source": [
    "Ensure that the session is active."
   ]
  },
  {
   "cell_type": "code",
   "execution_count": 1,
   "id": "0c8b0667",
   "metadata": {
    "execution": {
     "iopub.execute_input": "2025-03-10T23:15:54.803396Z",
     "iopub.status.busy": "2025-03-10T23:15:54.803098Z",
     "iopub.status.idle": "2025-03-10T23:15:55.093585Z",
     "shell.execute_reply": "2025-03-10T23:15:55.092766Z",
     "shell.execute_reply.started": "2025-03-10T23:15:54.803368Z"
    },
    "tags": []
   },
   "outputs": [
    {
     "data": {
      "text/html": [
       "Current session configs: <tt>{'proxyUser': 'user_IAM-User-CIS4130', 'conf': {'spark.pyspark.python': 'python3', 'spark.pyspark.virtualenv.enabled': 'true', 'spark.pyspark.virtualenv.type': 'native', 'spark.pyspark.virtualenv.bin.path': '/usr/bin/virtualenv'}, 'kind': 'pyspark'}</tt><br>"
      ],
      "text/plain": [
       "<IPython.core.display.HTML object>"
      ]
     },
     "metadata": {},
     "output_type": "display_data"
    },
    {
     "data": {
      "text/html": [
       "No active sessions."
      ],
      "text/plain": [
       "<IPython.core.display.HTML object>"
      ]
     },
     "metadata": {},
     "output_type": "display_data"
    }
   ],
   "source": []
  },
  {
   "cell_type": "code",
   "execution_count": 1,
   "id": "18976b07",
   "metadata": {
    "execution": {
     "iopub.execute_input": "2025-04-06T01:47:56.850033Z",
     "iopub.status.busy": "2025-04-06T01:47:56.849713Z",
     "iopub.status.idle": "2025-04-06T01:47:56.866454Z",
     "shell.execute_reply": "2025-04-06T01:47:56.865724Z",
     "shell.execute_reply.started": "2025-04-06T01:47:56.850001Z"
    },
    "tags": [],
    "vscode": {
     "languageId": "plaintext"
    }
   },
   "outputs": [
    {
     "data": {
      "text/html": [
       "Current session configs: <tt>{'proxyUser': 'user_Donkor', 'conf': {'spark.pyspark.python': 'python3', 'spark.pyspark.virtualenv.enabled': 'true', 'spark.pyspark.virtualenv.type': 'native', 'spark.pyspark.virtualenv.bin.path': '/usr/bin/virtualenv'}, 'kind': 'pyspark'}</tt><br>"
      ],
      "text/plain": [
       "<IPython.core.display.HTML object>"
      ]
     },
     "metadata": {},
     "output_type": "display_data"
    },
    {
     "data": {
      "text/html": [
       "No active sessions."
      ],
      "text/plain": [
       "<IPython.core.display.HTML object>"
      ]
     },
     "metadata": {},
     "output_type": "display_data"
    }
   ],
   "source": [
    "%%info"
   ]
  },
  {
   "cell_type": "markdown",
   "id": "1fc39c6b",
   "metadata": {},
   "source": [
    "Begin by installing the necessary libraries that you may need to conduct your analysis. At the very least, you must install pandas and matplotlib"
   ]
  },
  {
   "cell_type": "code",
   "execution_count": 2,
   "id": "e0a576cf",
   "metadata": {
    "execution": {
     "iopub.execute_input": "2025-03-10T23:15:55.767975Z",
     "iopub.status.busy": "2025-03-10T23:15:55.767764Z",
     "iopub.status.idle": "2025-03-10T23:17:18.786275Z",
     "shell.execute_reply": "2025-03-10T23:17:18.785527Z",
     "shell.execute_reply.started": "2025-03-10T23:15:55.767951Z"
    },
    "tags": []
   },
   "outputs": [
    {
     "data": {
      "application/vnd.jupyter.widget-view+json": {
       "model_id": "639c660ec78f4b3b8aea44428177adb3",
       "version_major": 2,
       "version_minor": 0
      },
      "text/plain": [
       "VBox()"
      ]
     },
     "metadata": {},
     "output_type": "display_data"
    },
    {
     "name": "stdout",
     "output_type": "stream",
     "text": [
      "Starting Spark application\n"
     ]
    },
    {
     "data": {
      "text/html": [
       "<table>\n",
       "<tbody><tr><th>ID</th><th>YARN Application ID</th><th>Kind</th><th>State</th><th>Spark UI</th><th>Driver log</th><th>User</th><th>Current session?</th></tr><tr><td>0</td><td>application_1741648188377_0001</td><td>pyspark</td><td>idle</td><td><a target=\"_blank\" href=\"http://ip-172-31-26-35.us-east-2.compute.internal:20888/proxy/application_1741648188377_0001/\" class=\"emr-proxy-link j-2NTZL1DP1QT1V application_1741648188377_0001\" emr-resource=\"j-2NTZL1DP1QT1V\n",
       "\" application-id=\"application_1741648188377_0001\">Link</a></td><td><a target=\"_blank\" href=\"http://ip-172-31-29-22.us-east-2.compute.internal:8042/node/containerlogs/container_1741648188377_0001_01_000001/livy\">Link</a></td><td>None</td><td>✔</td></tr></tbody></table>"
      ],
      "text/plain": [
       "<IPython.core.display.HTML object>"
      ]
     },
     "metadata": {},
     "output_type": "display_data"
    },
    {
     "data": {
      "application/vnd.jupyter.widget-view+json": {
       "model_id": "",
       "version_major": 2,
       "version_minor": 0
      },
      "text/plain": [
       "FloatProgress(value=0.0, bar_style='info', description='Progress:', layout=Layout(height='25px', width='50%'),…"
      ]
     },
     "metadata": {},
     "output_type": "display_data"
    },
    {
     "name": "stdout",
     "output_type": "stream",
     "text": [
      "SparkSession available as 'spark'.\n"
     ]
    },
    {
     "data": {
      "application/vnd.jupyter.widget-view+json": {
       "model_id": "",
       "version_major": 2,
       "version_minor": 0
      },
      "text/plain": [
       "FloatProgress(value=0.0, bar_style='info', description='Progress:', layout=Layout(height='25px', width='50%'),…"
      ]
     },
     "metadata": {},
     "output_type": "display_data"
    },
    {
     "name": "stdout",
     "output_type": "stream",
     "text": [
      "Collecting pandas\n",
      "  Downloading pandas-2.2.3-cp39-cp39-manylinux_2_17_x86_64.manylinux2014_x86_64.whl (13.1 MB)\n",
      "Collecting numpy>=1.22.4\n",
      "  Downloading numpy-2.0.2-cp39-cp39-manylinux_2_17_x86_64.manylinux2014_x86_64.whl (19.5 MB)\n",
      "Collecting python-dateutil>=2.8.2\n",
      "  Downloading python_dateutil-2.9.0.post0-py2.py3-none-any.whl (229 kB)\n",
      "Requirement already satisfied: pytz>=2020.1 in /usr/local/lib/python3.9/site-packages (from pandas) (2024.2)\n",
      "Collecting tzdata>=2022.7\n",
      "  Downloading tzdata-2025.1-py2.py3-none-any.whl (346 kB)\n",
      "Requirement already satisfied: six>=1.5 in /usr/local/lib/python3.9/site-packages (from python-dateutil>=2.8.2->pandas) (1.13.0)\n",
      "Installing collected packages: tzdata, python-dateutil, numpy, pandas\n",
      "  Attempting uninstall: python-dateutil\n",
      "    Found existing installation: python-dateutil 2.8.1\n",
      "    Not uninstalling python-dateutil at /usr/lib/python3.9/site-packages, outside environment /mnt/yarn/usercache/livy/appcache/application_1741648188377_0001/container_1741648188377_0001_01_000001/tmp/spark-902e3f49-16fb-4d0d-84ed-93deaf114159\n",
      "    Can't uninstall 'python-dateutil'. No files were found to uninstall.\n",
      "Successfully installed numpy-2.0.2 pandas-2.2.3 python-dateutil-2.9.0.post0 tzdata-2025.1\n",
      "\n",
      "Collecting matplotlib\n",
      "  Downloading matplotlib-3.9.4-cp39-cp39-manylinux_2_17_x86_64.manylinux2014_x86_64.whl (8.3 MB)\n",
      "Requirement already satisfied: numpy>=1.23 in ./tmp/spark-902e3f49-16fb-4d0d-84ed-93deaf114159/lib64/python3.9/site-packages (from matplotlib) (2.0.2)\n",
      "Collecting contourpy>=1.0.1\n",
      "  Downloading contourpy-1.3.0-cp39-cp39-manylinux_2_17_x86_64.manylinux2014_x86_64.whl (321 kB)\n",
      "Collecting cycler>=0.10\n",
      "  Downloading cycler-0.12.1-py3-none-any.whl (8.3 kB)\n",
      "Collecting importlib-resources>=3.2.0\n",
      "  Downloading importlib_resources-6.5.2-py3-none-any.whl (37 kB)\n",
      "Collecting fonttools>=4.22.0\n",
      "  Downloading fonttools-4.56.0-cp39-cp39-manylinux_2_17_x86_64.manylinux2014_x86_64.whl (4.6 MB)\n",
      "Requirement already satisfied: python-dateutil>=2.7 in ./tmp/spark-902e3f49-16fb-4d0d-84ed-93deaf114159/lib/python3.9/site-packages (from matplotlib) (2.9.0.post0)\n",
      "Collecting pillow>=8\n",
      "  Downloading pillow-11.1.0-cp39-cp39-manylinux_2_28_x86_64.whl (4.5 MB)\n",
      "Requirement already satisfied: pyparsing>=2.3.1 in /usr/lib/python3.9/site-packages (from matplotlib) (2.4.7)\n",
      "Collecting kiwisolver>=1.3.1\n",
      "  Downloading kiwisolver-1.4.7-cp39-cp39-manylinux_2_12_x86_64.manylinux2010_x86_64.whl (1.6 MB)\n",
      "Requirement already satisfied: packaging>=20.0 in /usr/lib/python3.9/site-packages (from matplotlib) (21.3)\n",
      "Collecting zipp>=3.1.0\n",
      "  Downloading zipp-3.21.0-py3-none-any.whl (9.6 kB)\n",
      "Requirement already satisfied: six>=1.5 in /usr/local/lib/python3.9/site-packages (from python-dateutil>=2.7->matplotlib) (1.13.0)\n",
      "Installing collected packages: zipp, pillow, kiwisolver, importlib-resources, fonttools, cycler, contourpy, matplotlib\n",
      "Successfully installed contourpy-1.3.0 cycler-0.12.1 fonttools-4.56.0 importlib-resources-6.5.2 kiwisolver-1.4.7 matplotlib-3.9.4 pillow-11.1.0 zipp-3.21.0\n",
      "\n",
      "WARNING: The directory '/home/.cache/pip' or its parent directory is not owned or is not writable by the current user. The cache has been disabled. Check the permissions and owner of that directory. If executing pip with sudo, you should use sudo's -H flag.\n",
      "ERROR: pip's dependency resolver does not currently take into account all the packages that are installed. This behaviour is the source of the following dependency conflicts.\n",
      "awscli 2.17.18 requires python-dateutil<=2.8.2,>=2.1, but you have python-dateutil 2.9.0.post0 which is incompatible.\n",
      "\n",
      "WARNING: The directory '/home/.cache/pip' or its parent directory is not owned or is not writable by the current user. The cache has been disabled. Check the permissions and owner of that directory. If executing pip with sudo, you should use sudo's -H flag."
     ]
    }
   ],
   "source": []
  },
  {
   "cell_type": "code",
   "execution_count": 2,
   "id": "bf9a64e6",
   "metadata": {
    "execution": {
     "iopub.execute_input": "2025-04-06T01:48:13.680422Z",
     "iopub.status.busy": "2025-04-06T01:48:13.680196Z",
     "iopub.status.idle": "2025-04-06T01:49:16.616010Z",
     "shell.execute_reply": "2025-04-06T01:49:16.615249Z",
     "shell.execute_reply.started": "2025-04-06T01:48:13.680396Z"
    },
    "tags": [],
    "vscode": {
     "languageId": "plaintext"
    }
   },
   "outputs": [
    {
     "data": {
      "application/vnd.jupyter.widget-view+json": {
       "model_id": "7d0cb75ef6dd49d28ed5a0670719e1d5",
       "version_major": 2,
       "version_minor": 0
      },
      "text/plain": [
       "VBox()"
      ]
     },
     "metadata": {},
     "output_type": "display_data"
    },
    {
     "name": "stdout",
     "output_type": "stream",
     "text": [
      "Starting Spark application\n"
     ]
    },
    {
     "data": {
      "text/html": [
       "<table>\n<tbody><tr><th>ID</th><th>YARN Application ID</th><th>Kind</th><th>State</th><th>Spark UI</th><th>Driver log</th><th>User</th><th>Current session?</th></tr><tr><td>1</td><td>application_1743893430397_0002</td><td>pyspark</td><td>idle</td><td><a target=\"_blank\" href=\"http://ip-172-31-39-180.us-east-2.compute.internal:20888/proxy/application_1743893430397_0002/\" class=\"emr-proxy-link j-2YPT61F6UXB9X application_1743893430397_0002\" emr-resource=\"j-2YPT61F6UXB9X\n\" application-id=\"application_1743893430397_0002\">Link</a></td><td><a target=\"_blank\" href=\"http://ip-172-31-44-188.us-east-2.compute.internal:8042/node/containerlogs/container_1743893430397_0002_01_000001/livy\">Link</a></td><td>None</td><td>✔</td></tr></tbody></table>"
      ],
      "text/plain": [
       "<IPython.core.display.HTML object>"
      ]
     },
     "metadata": {},
     "output_type": "display_data"
    },
    {
     "data": {
      "application/vnd.jupyter.widget-view+json": {
       "model_id": "",
       "version_major": 2,
       "version_minor": 0
      },
      "text/plain": [
       "FloatProgress(value=0.0, bar_style='info', description='Progress:', layout=Layout(height='25px', width='50%'),…"
      ]
     },
     "metadata": {},
     "output_type": "display_data"
    },
    {
     "name": "stdout",
     "output_type": "stream",
     "text": [
      "SparkSession available as 'spark'.\n"
     ]
    },
    {
     "data": {
      "application/vnd.jupyter.widget-view+json": {
       "model_id": "",
       "version_major": 2,
       "version_minor": 0
      },
      "text/plain": [
       "FloatProgress(value=0.0, bar_style='info', description='Progress:', layout=Layout(height='25px', width='50%'),…"
      ]
     },
     "metadata": {},
     "output_type": "display_data"
    },
    {
     "name": "stdout",
     "output_type": "stream",
     "text": [
      "Collecting pandas\n",
      "  Downloading pandas-2.2.3-cp39-cp39-manylinux_2_17_x86_64.manylinux2014_x86_64.whl (13.1 MB)\n",
      "Collecting numpy>=1.22.4\n",
      "  Downloading numpy-2.0.2-cp39-cp39-manylinux_2_17_x86_64.manylinux2014_x86_64.whl (19.5 MB)\n",
      "Requirement already satisfied: pytz>=2020.1 in /usr/local/lib/python3.9/site-packages (from pandas) (2024.2)\n",
      "Collecting tzdata>=2022.7\n",
      "  Downloading tzdata-2025.2-py2.py3-none-any.whl (347 kB)\n",
      "Collecting python-dateutil>=2.8.2\n",
      "  Downloading python_dateutil-2.9.0.post0-py2.py3-none-any.whl (229 kB)\n",
      "Requirement already satisfied: six>=1.5 in /usr/local/lib/python3.9/site-packages (from python-dateutil>=2.8.2->pandas) (1.13.0)\n",
      "Installing collected packages: tzdata, python-dateutil, numpy, pandas\n",
      "  Attempting uninstall: python-dateutil\n",
      "    Found existing installation: python-dateutil 2.8.1\n",
      "    Not uninstalling python-dateutil at /usr/lib/python3.9/site-packages, outside environment /mnt/yarn/usercache/livy/appcache/application_1743893430397_0002/container_1743893430397_0002_01_000001/tmp/spark-65c0434c-3f16-42cd-9607-9a3ce54fdc23\n",
      "    Can't uninstall 'python-dateutil'. No files were found to uninstall.\n",
      "Successfully installed numpy-2.0.2 pandas-2.2.3 python-dateutil-2.9.0.post0 tzdata-2025.2\n",
      "\n",
      "Collecting matplotlib\n",
      "  Downloading matplotlib-3.9.4-cp39-cp39-manylinux_2_17_x86_64.manylinux2014_x86_64.whl (8.3 MB)\n",
      "Requirement already satisfied: python-dateutil>=2.7 in ./tmp/spark-65c0434c-3f16-42cd-9607-9a3ce54fdc23/lib/python3.9/site-packages (from matplotlib) (2.9.0.post0)\n",
      "Collecting cycler>=0.10\n",
      "  Downloading cycler-0.12.1-py3-none-any.whl (8.3 kB)\n",
      "Collecting importlib-resources>=3.2.0\n",
      "  Downloading importlib_resources-6.5.2-py3-none-any.whl (37 kB)\n",
      "Collecting contourpy>=1.0.1\n",
      "  Downloading contourpy-1.3.0-cp39-cp39-manylinux_2_17_x86_64.manylinux2014_x86_64.whl (321 kB)\n",
      "Requirement already satisfied: numpy>=1.23 in ./tmp/spark-65c0434c-3f16-42cd-9607-9a3ce54fdc23/lib64/python3.9/site-packages (from matplotlib) (2.0.2)\n",
      "Requirement already satisfied: packaging>=20.0 in /usr/lib/python3.9/site-packages (from matplotlib) (21.3)\n",
      "Collecting kiwisolver>=1.3.1\n",
      "  Downloading kiwisolver-1.4.7-cp39-cp39-manylinux_2_12_x86_64.manylinux2010_x86_64.whl (1.6 MB)\n",
      "Collecting fonttools>=4.22.0\n",
      "  Downloading fonttools-4.57.0-cp39-cp39-manylinux_2_17_x86_64.manylinux2014_x86_64.whl (4.6 MB)\n",
      "Requirement already satisfied: pyparsing>=2.3.1 in /usr/lib/python3.9/site-packages (from matplotlib) (2.4.7)\n",
      "Collecting pillow>=8\n",
      "  Downloading pillow-11.1.0-cp39-cp39-manylinux_2_28_x86_64.whl (4.5 MB)\n",
      "Collecting zipp>=3.1.0\n",
      "  Downloading zipp-3.21.0-py3-none-any.whl (9.6 kB)\n",
      "Requirement already satisfied: six>=1.5 in /usr/local/lib/python3.9/site-packages (from python-dateutil>=2.7->matplotlib) (1.13.0)\n",
      "Installing collected packages: zipp, pillow, kiwisolver, importlib-resources, fonttools, cycler, contourpy, matplotlib\n",
      "Successfully installed contourpy-1.3.0 cycler-0.12.1 fonttools-4.57.0 importlib-resources-6.5.2 kiwisolver-1.4.7 matplotlib-3.9.4 pillow-11.1.0 zipp-3.21.0\n",
      "\n",
      "WARNING: The directory '/home/.cache/pip' or its parent directory is not owned or is not writable by the current user. The cache has been disabled. Check the permissions and owner of that directory. If executing pip with sudo, you should use sudo's -H flag.\n",
      "ERROR: pip's dependency resolver does not currently take into account all the packages that are installed. This behaviour is the source of the following dependency conflicts.\n",
      "awscli 2.17.18 requires python-dateutil<=2.8.2,>=2.1, but you have python-dateutil 2.9.0.post0 which is incompatible.\n",
      "\n",
      "WARNING: The directory '/home/.cache/pip' or its parent directory is not owned or is not writable by the current user. The cache has been disabled. Check the permissions and owner of that directory. If executing pip with sudo, you should use sudo's -H flag."
     ]
    }
   ],
   "source": [
    "sc.install_pypi_package(\"pandas\")\n",
    "sc.install_pypi_package(\"matplotlib\")"
   ]
  },
  {
   "cell_type": "markdown",
   "id": "5ab05754",
   "metadata": {},
   "source": [
    "Now, import the installed packages from the previous block below."
   ]
  },
  {
   "cell_type": "code",
   "execution_count": 3,
   "id": "6d0a7012",
   "metadata": {
    "execution": {
     "iopub.execute_input": "2025-03-10T23:17:18.787565Z",
     "iopub.status.busy": "2025-03-10T23:17:18.787372Z",
     "iopub.status.idle": "2025-03-10T23:17:21.075790Z",
     "shell.execute_reply": "2025-03-10T23:17:21.075184Z",
     "shell.execute_reply.started": "2025-03-10T23:17:18.787540Z"
    },
    "tags": []
   },
   "outputs": [
    {
     "data": {
      "application/vnd.jupyter.widget-view+json": {
       "model_id": "d13eb874ac5748b98885b31991be0bfa",
       "version_major": 2,
       "version_minor": 0
      },
      "text/plain": [
       "VBox()"
      ]
     },
     "metadata": {},
     "output_type": "display_data"
    },
    {
     "data": {
      "application/vnd.jupyter.widget-view+json": {
       "model_id": "",
       "version_major": 2,
       "version_minor": 0
      },
      "text/plain": [
       "FloatProgress(value=0.0, bar_style='info', description='Progress:', layout=Layout(height='25px', width='50%'),…"
      ]
     },
     "metadata": {},
     "output_type": "display_data"
    }
   ],
   "source": []
  },
  {
   "cell_type": "code",
   "execution_count": 3,
   "id": "81ccb3d0",
   "metadata": {
    "execution": {
     "iopub.execute_input": "2025-04-06T01:49:16.617398Z",
     "iopub.status.busy": "2025-04-06T01:49:16.617230Z",
     "iopub.status.idle": "2025-04-06T01:49:18.883755Z",
     "shell.execute_reply": "2025-04-06T01:49:18.883083Z",
     "shell.execute_reply.started": "2025-04-06T01:49:16.617376Z"
    },
    "tags": [],
    "vscode": {
     "languageId": "plaintext"
    }
   },
   "outputs": [
    {
     "data": {
      "application/vnd.jupyter.widget-view+json": {
       "model_id": "8e2b498c5dff4cc185ba650a590cecee",
       "version_major": 2,
       "version_minor": 0
      },
      "text/plain": [
       "VBox()"
      ]
     },
     "metadata": {},
     "output_type": "display_data"
    },
    {
     "data": {
      "application/vnd.jupyter.widget-view+json": {
       "model_id": "",
       "version_major": 2,
       "version_minor": 0
      },
      "text/plain": [
       "FloatProgress(value=0.0, bar_style='info', description='Progress:', layout=Layout(height='25px', width='50%'),…"
      ]
     },
     "metadata": {},
     "output_type": "display_data"
    }
   ],
   "source": [
    "from pyspark.sql import SparkSession\n",
    "import pandas as pd\n",
    "import matplotlib.pyplot as plt\n"
   ]
  },
  {
   "cell_type": "markdown",
   "id": "e963f4ba",
   "metadata": {},
   "source": [
    "# Loading Data"
   ]
  },
  {
   "cell_type": "markdown",
   "id": "b4356189",
   "metadata": {},
   "source": [
    "Load all data from S3 into a Spark dataframe object "
   ]
  },
  {
   "cell_type": "code",
   "execution_count": 4,
   "id": "24beddd1",
   "metadata": {
    "execution": {
     "iopub.execute_input": "2025-03-10T23:17:21.077681Z",
     "iopub.status.busy": "2025-03-10T23:17:21.077407Z",
     "iopub.status.idle": "2025-03-10T23:17:30.412288Z",
     "shell.execute_reply": "2025-03-10T23:17:30.411615Z",
     "shell.execute_reply.started": "2025-03-10T23:17:21.077641Z"
    },
    "tags": []
   },
   "outputs": [
    {
     "data": {
      "application/vnd.jupyter.widget-view+json": {
       "model_id": "3166f6bc6e984bbcb9a1572639c8fc22",
       "version_major": 2,
       "version_minor": 0
      },
      "text/plain": [
       "VBox()"
      ]
     },
     "metadata": {},
     "output_type": "display_data"
    },
    {
     "data": {
      "application/vnd.jupyter.widget-view+json": {
       "model_id": "",
       "version_major": 2,
       "version_minor": 0
      },
      "text/plain": [
       "FloatProgress(value=0.0, bar_style='info', description='Progress:', layout=Layout(height='25px', width='50%'),…"
      ]
     },
     "metadata": {},
     "output_type": "display_data"
    }
   ],
   "source": []
  },
  {
   "cell_type": "code",
   "execution_count": 4,
   "id": "c6cf6b41",
   "metadata": {
    "execution": {
     "iopub.execute_input": "2025-04-06T01:49:18.885923Z",
     "iopub.status.busy": "2025-04-06T01:49:18.885672Z",
     "iopub.status.idle": "2025-04-06T01:49:26.177141Z",
     "shell.execute_reply": "2025-04-06T01:49:26.176070Z",
     "shell.execute_reply.started": "2025-04-06T01:49:18.885885Z"
    },
    "tags": [],
    "vscode": {
     "languageId": "plaintext"
    }
   },
   "outputs": [
    {
     "data": {
      "application/vnd.jupyter.widget-view+json": {
       "model_id": "368be4dd787340a581e0d969dece5f82",
       "version_major": 2,
       "version_minor": 0
      },
      "text/plain": [
       "VBox()"
      ]
     },
     "metadata": {},
     "output_type": "display_data"
    },
    {
     "data": {
      "application/vnd.jupyter.widget-view+json": {
       "model_id": "",
       "version_major": 2,
       "version_minor": 0
      },
      "text/plain": [
       "FloatProgress(value=0.0, bar_style='info', description='Progress:', layout=Layout(height='25px', width='50%'),…"
      ]
     },
     "metadata": {},
     "output_type": "display_data"
    }
   ],
   "source": [
    "# The data comes from https://www.kaggle.com/datasets/ashirwadsangwan/imdb-dataset\n",
    "# You will read it from my publicly available bucket.\n",
    "# This will be the same dataset that you'll use for your project.\n",
    "name = spark.read.csv('s3://cis9760-lecture9-movieanalysis/name.basics.new.tsv', sep=r'\\t', header=True)\n",
    "titles = spark.read.csv('s3://cis9760-lecture9-movieanalysis/title.basic.new.tsv', sep=r'\\t', header=True, nullValue='\\\\N')\n",
    "principles = spark.read.csv('s3://cis9760-lecture9-movieanalysis/title.principles.new.tsv', sep=r'\\t', header=True)\n",
    "ratings = spark.read.csv('s3://cis9760-lecture9-movieanalysis/title.ratings.new.tsv', sep=r'\\t', header=True)"
   ]
  },
  {
   "cell_type": "markdown",
   "id": "c65401c7",
   "metadata": {},
   "source": [
    "## Name Basics"
   ]
  },
  {
   "cell_type": "markdown",
   "id": "03981851",
   "metadata": {},
   "source": [
    "Display the schema below:"
   ]
  },
  {
   "cell_type": "code",
   "execution_count": 5,
   "id": "98b95e51",
   "metadata": {
    "execution": {
     "iopub.execute_input": "2025-03-10T23:24:44.932206Z",
     "iopub.status.busy": "2025-03-10T23:24:44.931979Z",
     "iopub.status.idle": "2025-03-10T23:24:45.207185Z",
     "shell.execute_reply": "2025-03-10T23:24:45.206442Z",
     "shell.execute_reply.started": "2025-03-10T23:24:44.932180Z"
    },
    "tags": []
   },
   "outputs": [
    {
     "data": {
      "application/vnd.jupyter.widget-view+json": {
       "model_id": "257d8406a2124fce8a0b3796dc8f1a2a",
       "version_major": 2,
       "version_minor": 0
      },
      "text/plain": [
       "VBox()"
      ]
     },
     "metadata": {},
     "output_type": "display_data"
    },
    {
     "data": {
      "application/vnd.jupyter.widget-view+json": {
       "model_id": "",
       "version_major": 2,
       "version_minor": 0
      },
      "text/plain": [
       "FloatProgress(value=0.0, bar_style='info', description='Progress:', layout=Layout(height='25px', width='50%'),…"
      ]
     },
     "metadata": {},
     "output_type": "display_data"
    },
    {
     "name": "stdout",
     "output_type": "stream",
     "text": [
      "root\n",
      " |-- nconst: string (nullable = true)\n",
      " |-- primaryName: string (nullable = true)\n",
      " |-- birthYear: string (nullable = true)\n",
      " |-- deathYear: string (nullable = true)\n",
      " |-- primaryProfession: string (nullable = true)\n",
      " |-- knownForTitles: string (nullable = true)"
     ]
    }
   ],
   "source": []
  },
  {
   "cell_type": "code",
   "execution_count": 5,
   "id": "0383518f",
   "metadata": {
    "execution": {
     "iopub.execute_input": "2025-04-06T01:49:26.178719Z",
     "iopub.status.busy": "2025-04-06T01:49:26.178490Z",
     "iopub.status.idle": "2025-04-06T01:49:26.424561Z",
     "shell.execute_reply": "2025-04-06T01:49:26.423984Z",
     "shell.execute_reply.started": "2025-04-06T01:49:26.178680Z"
    },
    "tags": [],
    "vscode": {
     "languageId": "plaintext"
    }
   },
   "outputs": [
    {
     "data": {
      "application/vnd.jupyter.widget-view+json": {
       "model_id": "2a664294c1414a7587cf8bf683711f06",
       "version_major": 2,
       "version_minor": 0
      },
      "text/plain": [
       "VBox()"
      ]
     },
     "metadata": {},
     "output_type": "display_data"
    },
    {
     "data": {
      "application/vnd.jupyter.widget-view+json": {
       "model_id": "",
       "version_major": 2,
       "version_minor": 0
      },
      "text/plain": [
       "FloatProgress(value=0.0, bar_style='info', description='Progress:', layout=Layout(height='25px', width='50%'),…"
      ]
     },
     "metadata": {},
     "output_type": "display_data"
    },
    {
     "name": "stdout",
     "output_type": "stream",
     "text": [
      "root\n",
      " |-- nconst: string (nullable = true)\n",
      " |-- primaryName: string (nullable = true)\n",
      " |-- birthYear: string (nullable = true)\n",
      " |-- deathYear: string (nullable = true)\n",
      " |-- primaryProfession: string (nullable = true)\n",
      " |-- knownForTitles: string (nullable = true)"
     ]
    }
   ],
   "source": [
    "name.printSchema()"
   ]
  },
  {
   "cell_type": "markdown",
   "id": "dfd8a219",
   "metadata": {},
   "source": [
    "Display the first 15 rows with the following columns:\n",
    "\n",
    "* `nconst`\n",
    "* `primaryName`\n",
    "* `primaryProfession`\n",
    "* `birthYear`"
   ]
  },
  {
   "cell_type": "code",
   "execution_count": 6,
   "id": "29db2340",
   "metadata": {
    "execution": {
     "iopub.execute_input": "2025-03-10T23:24:47.281571Z",
     "iopub.status.busy": "2025-03-10T23:24:47.281354Z",
     "iopub.status.idle": "2025-03-10T23:24:54.592812Z",
     "shell.execute_reply": "2025-03-10T23:24:54.591928Z",
     "shell.execute_reply.started": "2025-03-10T23:24:47.281544Z"
    },
    "tags": []
   },
   "outputs": [
    {
     "data": {
      "application/vnd.jupyter.widget-view+json": {
       "model_id": "9183b201752f4b689d892147bc997fa2",
       "version_major": 2,
       "version_minor": 0
      },
      "text/plain": [
       "VBox()"
      ]
     },
     "metadata": {},
     "output_type": "display_data"
    },
    {
     "data": {
      "application/vnd.jupyter.widget-view+json": {
       "model_id": "",
       "version_major": 2,
       "version_minor": 0
      },
      "text/plain": [
       "FloatProgress(value=0.0, bar_style='info', description='Progress:', layout=Layout(height='25px', width='50%'),…"
      ]
     },
     "metadata": {},
     "output_type": "display_data"
    },
    {
     "name": "stdout",
     "output_type": "stream",
     "text": [
      "+---------+-------------------+-------------------------------------+---------+\n",
      "|nconst   |primaryName        |primaryProfession                    |birthYear|\n",
      "+---------+-------------------+-------------------------------------+---------+\n",
      "|nm0000001|Fred Astaire       |soundtrack,actor,miscellaneous       |1899     |\n",
      "|nm0000002|Lauren Bacall      |actress,soundtrack                   |1924     |\n",
      "|nm0000003|Brigitte Bardot    |actress,soundtrack,music_department  |1934     |\n",
      "|nm0000004|John Belushi       |actor,soundtrack,writer              |1949     |\n",
      "|nm0000005|Ingmar Bergman     |writer,director,actor                |1918     |\n",
      "|nm0000006|Ingrid Bergman     |actress,soundtrack,producer          |1915     |\n",
      "|nm0000007|Humphrey Bogart    |actor,soundtrack,producer            |1899     |\n",
      "|nm0000008|Marlon Brando      |actor,soundtrack,director            |1924     |\n",
      "|nm0000009|Richard Burton     |actor,soundtrack,producer            |1925     |\n",
      "|nm0000010|James Cagney       |actor,soundtrack,director            |1899     |\n",
      "|nm0000011|Gary Cooper        |actor,soundtrack,stunts              |1901     |\n",
      "|nm0000012|Bette Davis        |actress,soundtrack,make_up_department|1908     |\n",
      "|nm0000013|Doris Day          |soundtrack,actress,producer          |1922     |\n",
      "|nm0000014|Olivia de Havilland|actress,soundtrack                   |1916     |\n",
      "|nm0000015|James Dean         |actor,miscellaneous                  |1931     |\n",
      "+---------+-------------------+-------------------------------------+---------+\n",
      "only showing top 15 rows"
     ]
    }
   ],
   "source": []
  },
  {
   "cell_type": "code",
   "execution_count": 6,
   "id": "2f82261e",
   "metadata": {
    "execution": {
     "iopub.execute_input": "2025-04-06T01:49:26.425640Z",
     "iopub.status.busy": "2025-04-06T01:49:26.425471Z",
     "iopub.status.idle": "2025-04-06T01:49:27.181501Z",
     "shell.execute_reply": "2025-04-06T01:49:27.180752Z",
     "shell.execute_reply.started": "2025-04-06T01:49:26.425614Z"
    },
    "tags": [],
    "vscode": {
     "languageId": "plaintext"
    }
   },
   "outputs": [
    {
     "data": {
      "application/vnd.jupyter.widget-view+json": {
       "model_id": "c8e54299c35d4da1bb27a3cc723411e7",
       "version_major": 2,
       "version_minor": 0
      },
      "text/plain": [
       "VBox()"
      ]
     },
     "metadata": {},
     "output_type": "display_data"
    },
    {
     "data": {
      "application/vnd.jupyter.widget-view+json": {
       "model_id": "",
       "version_major": 2,
       "version_minor": 0
      },
      "text/plain": [
       "FloatProgress(value=0.0, bar_style='info', description='Progress:', layout=Layout(height='25px', width='50%'),…"
      ]
     },
     "metadata": {},
     "output_type": "display_data"
    },
    {
     "name": "stdout",
     "output_type": "stream",
     "text": [
      "+---------+-------------------+-------------------------------------+---------+\n",
      "|nconst   |primaryName        |primaryProfession                    |birthYear|\n",
      "+---------+-------------------+-------------------------------------+---------+\n",
      "|nm0000001|Fred Astaire       |soundtrack,actor,miscellaneous       |1899     |\n",
      "|nm0000002|Lauren Bacall      |actress,soundtrack                   |1924     |\n",
      "|nm0000003|Brigitte Bardot    |actress,soundtrack,music_department  |1934     |\n",
      "|nm0000004|John Belushi       |actor,soundtrack,writer              |1949     |\n",
      "|nm0000005|Ingmar Bergman     |writer,director,actor                |1918     |\n",
      "|nm0000006|Ingrid Bergman     |actress,soundtrack,producer          |1915     |\n",
      "|nm0000007|Humphrey Bogart    |actor,soundtrack,producer            |1899     |\n",
      "|nm0000008|Marlon Brando      |actor,soundtrack,director            |1924     |\n",
      "|nm0000009|Richard Burton     |actor,soundtrack,producer            |1925     |\n",
      "|nm0000010|James Cagney       |actor,soundtrack,director            |1899     |\n",
      "|nm0000011|Gary Cooper        |actor,soundtrack,stunts              |1901     |\n",
      "|nm0000012|Bette Davis        |actress,soundtrack,make_up_department|1908     |\n",
      "|nm0000013|Doris Day          |soundtrack,actress,producer          |1922     |\n",
      "|nm0000014|Olivia de Havilland|actress,soundtrack                   |1916     |\n",
      "|nm0000015|James Dean         |actor,miscellaneous                  |1931     |\n",
      "+---------+-------------------+-------------------------------------+---------+\n",
      "only showing top 15 rows"
     ]
    }
   ],
   "source": [
    "name.select(\"nconst\", \"primaryName\", \"primaryProfession\", \"birthYear\").show(15, truncate=False)\n"
   ]
  },
  {
   "cell_type": "markdown",
   "id": "65371453",
   "metadata": {},
   "source": [
    "## Title Basics"
   ]
  },
  {
   "cell_type": "markdown",
   "id": "b95d8c5a",
   "metadata": {},
   "source": [
    "Display the first 5 rows with the following columns:\n",
    "    \n",
    "* `tconst`    \n",
    "* `titleType`\n",
    "* `primaryTitle`\n",
    "* `genres`"
   ]
  },
  {
   "cell_type": "code",
   "execution_count": 7,
   "id": "74c95177",
   "metadata": {
    "execution": {
     "iopub.execute_input": "2025-03-10T23:24:54.594526Z",
     "iopub.status.busy": "2025-03-10T23:24:54.594264Z",
     "iopub.status.idle": "2025-03-10T23:24:55.360860Z",
     "shell.execute_reply": "2025-03-10T23:24:55.360111Z",
     "shell.execute_reply.started": "2025-03-10T23:24:54.594490Z"
    },
    "tags": []
   },
   "outputs": [
    {
     "data": {
      "application/vnd.jupyter.widget-view+json": {
       "model_id": "a74c460189a541e9846f327655e29f8c",
       "version_major": 2,
       "version_minor": 0
      },
      "text/plain": [
       "VBox()"
      ]
     },
     "metadata": {},
     "output_type": "display_data"
    },
    {
     "data": {
      "application/vnd.jupyter.widget-view+json": {
       "model_id": "",
       "version_major": 2,
       "version_minor": 0
      },
      "text/plain": [
       "FloatProgress(value=0.0, bar_style='info', description='Progress:', layout=Layout(height='25px', width='50%'),…"
      ]
     },
     "metadata": {},
     "output_type": "display_data"
    },
    {
     "name": "stdout",
     "output_type": "stream",
     "text": [
      "+---------+---------+----------------------+------------------------+\n",
      "|tconst   |titleType|primaryTitle          |genres                  |\n",
      "+---------+---------+----------------------+------------------------+\n",
      "|tt0000001|short    |Carmencita            |Documentary,Short       |\n",
      "|tt0000002|short    |Le clown et ses chiens|Animation,Short         |\n",
      "|tt0000003|short    |Pauvre Pierrot        |Animation,Comedy,Romance|\n",
      "|tt0000004|short    |Un bon bock           |Animation,Short         |\n",
      "|tt0000005|short    |Blacksmith Scene      |Comedy,Short            |\n",
      "+---------+---------+----------------------+------------------------+\n",
      "only showing top 5 rows"
     ]
    }
   ],
   "source": []
  },
  {
   "cell_type": "code",
   "execution_count": 7,
   "id": "44c61318",
   "metadata": {
    "execution": {
     "iopub.execute_input": "2025-04-06T01:49:27.182627Z",
     "iopub.status.busy": "2025-04-06T01:49:27.182444Z",
     "iopub.status.idle": "2025-04-06T01:49:27.947133Z",
     "shell.execute_reply": "2025-04-06T01:49:27.946376Z",
     "shell.execute_reply.started": "2025-04-06T01:49:27.182602Z"
    },
    "tags": [],
    "vscode": {
     "languageId": "plaintext"
    }
   },
   "outputs": [
    {
     "data": {
      "application/vnd.jupyter.widget-view+json": {
       "model_id": "d8566d99b8e44e0a8e5595c32f924dcd",
       "version_major": 2,
       "version_minor": 0
      },
      "text/plain": [
       "VBox()"
      ]
     },
     "metadata": {},
     "output_type": "display_data"
    },
    {
     "data": {
      "application/vnd.jupyter.widget-view+json": {
       "model_id": "",
       "version_major": 2,
       "version_minor": 0
      },
      "text/plain": [
       "FloatProgress(value=0.0, bar_style='info', description='Progress:', layout=Layout(height='25px', width='50%'),…"
      ]
     },
     "metadata": {},
     "output_type": "display_data"
    },
    {
     "name": "stdout",
     "output_type": "stream",
     "text": [
      "+---------+---------+----------------------+------------------------+\n",
      "|tconst   |titleType|primaryTitle          |genres                  |\n",
      "+---------+---------+----------------------+------------------------+\n",
      "|tt0000001|short    |Carmencita            |Documentary,Short       |\n",
      "|tt0000002|short    |Le clown et ses chiens|Animation,Short         |\n",
      "|tt0000003|short    |Pauvre Pierrot        |Animation,Comedy,Romance|\n",
      "|tt0000004|short    |Un bon bock           |Animation,Short         |\n",
      "|tt0000005|short    |Blacksmith Scene      |Comedy,Short            |\n",
      "+---------+---------+----------------------+------------------------+\n",
      "only showing top 5 rows"
     ]
    }
   ],
   "source": [
    "titles.select(\"tconst\", \"titleType\", \"primaryTitle\", \"genres\").show(5, truncate=False)\n"
   ]
  },
  {
   "cell_type": "markdown",
   "id": "f3852bb4",
   "metadata": {},
   "source": [
    "Display the unique title types below:"
   ]
  },
  {
   "cell_type": "code",
   "execution_count": null,
   "id": "95339d30",
   "metadata": {
    "vscode": {
     "languageId": "plaintext"
    }
   },
   "outputs": [],
   "source": []
  },
  {
   "cell_type": "code",
   "execution_count": 8,
   "id": "2a28caff",
   "metadata": {
    "execution": {
     "iopub.execute_input": "2025-03-10T23:24:55.363219Z",
     "iopub.status.busy": "2025-03-10T23:24:55.362781Z",
     "iopub.status.idle": "2025-03-10T23:25:04.681516Z",
     "shell.execute_reply": "2025-03-10T23:25:04.680564Z",
     "shell.execute_reply.started": "2025-03-10T23:24:55.363177Z"
    },
    "tags": []
   },
   "outputs": [
    {
     "data": {
      "application/vnd.jupyter.widget-view+json": {
       "model_id": "c09ef0a77ae8441db26fd2879cb918c6",
       "version_major": 2,
       "version_minor": 0
      },
      "text/plain": [
       "VBox()"
      ]
     },
     "metadata": {},
     "output_type": "display_data"
    },
    {
     "data": {
      "application/vnd.jupyter.widget-view+json": {
       "model_id": "",
       "version_major": 2,
       "version_minor": 0
      },
      "text/plain": [
       "FloatProgress(value=0.0, bar_style='info', description='Progress:', layout=Layout(height='25px', width='50%'),…"
      ]
     },
     "metadata": {},
     "output_type": "display_data"
    },
    {
     "name": "stdout",
     "output_type": "stream",
     "text": [
      "+------------+\n",
      "|titleType   |\n",
      "+------------+\n",
      "|tvSeries    |\n",
      "|tvMiniSeries|\n",
      "|movie       |\n",
      "|videoGame   |\n",
      "|tvSpecial   |\n",
      "|video       |\n",
      "|tvMovie     |\n",
      "|tvEpisode   |\n",
      "|tvShort     |\n",
      "|short       |\n",
      "|tvPilot     |\n",
      "+------------+"
     ]
    }
   ],
   "source": []
  },
  {
   "cell_type": "code",
   "execution_count": 8,
   "id": "eb5e4594",
   "metadata": {
    "execution": {
     "iopub.execute_input": "2025-04-06T01:49:27.948363Z",
     "iopub.status.busy": "2025-04-06T01:49:27.948186Z",
     "iopub.status.idle": "2025-04-06T01:49:37.232534Z",
     "shell.execute_reply": "2025-04-06T01:49:37.231833Z",
     "shell.execute_reply.started": "2025-04-06T01:49:27.948339Z"
    },
    "tags": [],
    "vscode": {
     "languageId": "plaintext"
    }
   },
   "outputs": [
    {
     "data": {
      "application/vnd.jupyter.widget-view+json": {
       "model_id": "1247bbf442d7408ea8de9197f0b6b8ba",
       "version_major": 2,
       "version_minor": 0
      },
      "text/plain": [
       "VBox()"
      ]
     },
     "metadata": {},
     "output_type": "display_data"
    },
    {
     "data": {
      "application/vnd.jupyter.widget-view+json": {
       "model_id": "",
       "version_major": 2,
       "version_minor": 0
      },
      "text/plain": [
       "FloatProgress(value=0.0, bar_style='info', description='Progress:', layout=Layout(height='25px', width='50%'),…"
      ]
     },
     "metadata": {},
     "output_type": "display_data"
    },
    {
     "name": "stdout",
     "output_type": "stream",
     "text": [
      "+------------+\n",
      "|titleType   |\n",
      "+------------+\n",
      "|tvSeries    |\n",
      "|tvMiniSeries|\n",
      "|movie       |\n",
      "|videoGame   |\n",
      "|tvSpecial   |\n",
      "|video       |\n",
      "|tvMovie     |\n",
      "|tvEpisode   |\n",
      "|tvShort     |\n",
      "|short       |\n",
      "|tvPilot     |\n",
      "+------------+"
     ]
    }
   ],
   "source": [
    "titles.select(\"titleType\").distinct().show(truncate=False)\n"
   ]
  },
  {
   "cell_type": "markdown",
   "id": "d8f3c92f",
   "metadata": {},
   "source": [
    "Display the schema below:"
   ]
  },
  {
   "cell_type": "code",
   "execution_count": 9,
   "id": "8334d2fe",
   "metadata": {
    "execution": {
     "iopub.execute_input": "2025-03-10T23:25:04.683527Z",
     "iopub.status.busy": "2025-03-10T23:25:04.683279Z",
     "iopub.status.idle": "2025-03-10T23:25:04.769393Z",
     "shell.execute_reply": "2025-03-10T23:25:04.768585Z",
     "shell.execute_reply.started": "2025-03-10T23:25:04.683490Z"
    },
    "tags": []
   },
   "outputs": [
    {
     "data": {
      "application/vnd.jupyter.widget-view+json": {
       "model_id": "b727898a1e7c40a28cb7858b6fcce83b",
       "version_major": 2,
       "version_minor": 0
      },
      "text/plain": [
       "VBox()"
      ]
     },
     "metadata": {},
     "output_type": "display_data"
    },
    {
     "data": {
      "application/vnd.jupyter.widget-view+json": {
       "model_id": "",
       "version_major": 2,
       "version_minor": 0
      },
      "text/plain": [
       "FloatProgress(value=0.0, bar_style='info', description='Progress:', layout=Layout(height='25px', width='50%'),…"
      ]
     },
     "metadata": {},
     "output_type": "display_data"
    },
    {
     "name": "stdout",
     "output_type": "stream",
     "text": [
      "root\n",
      " |-- tconst: string (nullable = true)\n",
      " |-- titleType: string (nullable = true)\n",
      " |-- primaryTitle: string (nullable = true)\n",
      " |-- originalTitle: string (nullable = true)\n",
      " |-- isAdult: string (nullable = true)\n",
      " |-- startYear: string (nullable = true)\n",
      " |-- endYear: string (nullable = true)\n",
      " |-- runtimeMinutes: string (nullable = true)\n",
      " |-- genres: string (nullable = true)"
     ]
    }
   ],
   "source": []
  },
  {
   "cell_type": "code",
   "execution_count": 9,
   "id": "dff56506",
   "metadata": {
    "execution": {
     "iopub.execute_input": "2025-04-06T01:49:37.235586Z",
     "iopub.status.busy": "2025-04-06T01:49:37.235336Z",
     "iopub.status.idle": "2025-04-06T01:49:37.281594Z",
     "shell.execute_reply": "2025-04-06T01:49:37.280640Z",
     "shell.execute_reply.started": "2025-04-06T01:49:37.235549Z"
    },
    "tags": [],
    "vscode": {
     "languageId": "plaintext"
    }
   },
   "outputs": [
    {
     "data": {
      "application/vnd.jupyter.widget-view+json": {
       "model_id": "f531976a87604e8d925669d530969607",
       "version_major": 2,
       "version_minor": 0
      },
      "text/plain": [
       "VBox()"
      ]
     },
     "metadata": {},
     "output_type": "display_data"
    },
    {
     "data": {
      "application/vnd.jupyter.widget-view+json": {
       "model_id": "",
       "version_major": 2,
       "version_minor": 0
      },
      "text/plain": [
       "FloatProgress(value=0.0, bar_style='info', description='Progress:', layout=Layout(height='25px', width='50%'),…"
      ]
     },
     "metadata": {},
     "output_type": "display_data"
    },
    {
     "name": "stdout",
     "output_type": "stream",
     "text": [
      "root\n",
      " |-- tconst: string (nullable = true)\n",
      " |-- titleType: string (nullable = true)\n",
      " |-- primaryTitle: string (nullable = true)\n",
      " |-- originalTitle: string (nullable = true)\n",
      " |-- isAdult: string (nullable = true)\n",
      " |-- startYear: string (nullable = true)\n",
      " |-- endYear: string (nullable = true)\n",
      " |-- runtimeMinutes: string (nullable = true)\n",
      " |-- genres: string (nullable = true)"
     ]
    }
   ],
   "source": [
    "titles.printSchema()"
   ]
  },
  {
   "cell_type": "markdown",
   "id": "4472d6ef-ddc2-4211-a29a-a5f408950963",
   "metadata": {},
   "source": [
    "Remove the 'originalTitle' from the dataframe and display the schema to verify it."
   ]
  },
  {
   "cell_type": "code",
   "execution_count": 10,
   "id": "469f9978-12f2-47bb-91a1-71b47b53d2dd",
   "metadata": {
    "execution": {
     "iopub.execute_input": "2025-03-10T23:25:04.771479Z",
     "iopub.status.busy": "2025-03-10T23:25:04.770644Z",
     "iopub.status.idle": "2025-03-10T23:25:04.852511Z",
     "shell.execute_reply": "2025-03-10T23:25:04.851748Z",
     "shell.execute_reply.started": "2025-03-10T23:25:04.771440Z"
    },
    "tags": []
   },
   "outputs": [
    {
     "data": {
      "application/vnd.jupyter.widget-view+json": {
       "model_id": "d2af71d3048e4b6f877102a41e37d1a2",
       "version_major": 2,
       "version_minor": 0
      },
      "text/plain": [
       "VBox()"
      ]
     },
     "metadata": {},
     "output_type": "display_data"
    },
    {
     "data": {
      "application/vnd.jupyter.widget-view+json": {
       "model_id": "",
       "version_major": 2,
       "version_minor": 0
      },
      "text/plain": [
       "FloatProgress(value=0.0, bar_style='info', description='Progress:', layout=Layout(height='25px', width='50%'),…"
      ]
     },
     "metadata": {},
     "output_type": "display_data"
    },
    {
     "name": "stdout",
     "output_type": "stream",
     "text": [
      "root\n",
      " |-- tconst: string (nullable = true)\n",
      " |-- titleType: string (nullable = true)\n",
      " |-- primaryTitle: string (nullable = true)\n",
      " |-- isAdult: string (nullable = true)\n",
      " |-- startYear: string (nullable = true)\n",
      " |-- endYear: string (nullable = true)\n",
      " |-- runtimeMinutes: string (nullable = true)\n",
      " |-- genres: string (nullable = true)"
     ]
    }
   ],
   "source": []
  },
  {
   "cell_type": "code",
   "execution_count": 10,
   "id": "9061d897",
   "metadata": {
    "execution": {
     "iopub.execute_input": "2025-04-06T01:49:37.283795Z",
     "iopub.status.busy": "2025-04-06T01:49:37.283302Z",
     "iopub.status.idle": "2025-04-06T01:49:37.613332Z",
     "shell.execute_reply": "2025-04-06T01:49:37.612496Z",
     "shell.execute_reply.started": "2025-04-06T01:49:37.283753Z"
    },
    "tags": [],
    "vscode": {
     "languageId": "plaintext"
    }
   },
   "outputs": [
    {
     "data": {
      "application/vnd.jupyter.widget-view+json": {
       "model_id": "f4fbe95478a3446885514cc49fd9e319",
       "version_major": 2,
       "version_minor": 0
      },
      "text/plain": [
       "VBox()"
      ]
     },
     "metadata": {},
     "output_type": "display_data"
    },
    {
     "data": {
      "application/vnd.jupyter.widget-view+json": {
       "model_id": "",
       "version_major": 2,
       "version_minor": 0
      },
      "text/plain": [
       "FloatProgress(value=0.0, bar_style='info', description='Progress:', layout=Layout(height='25px', width='50%'),…"
      ]
     },
     "metadata": {},
     "output_type": "display_data"
    },
    {
     "name": "stdout",
     "output_type": "stream",
     "text": [
      "root\n",
      " |-- tconst: string (nullable = true)\n",
      " |-- titleType: string (nullable = true)\n",
      " |-- primaryTitle: string (nullable = true)\n",
      " |-- isAdult: string (nullable = true)\n",
      " |-- startYear: string (nullable = true)\n",
      " |-- endYear: string (nullable = true)\n",
      " |-- runtimeMinutes: string (nullable = true)\n",
      " |-- genres: string (nullable = true)"
     ]
    }
   ],
   "source": [
    "titles = titles.drop(\"originalTitle\")\n",
    "titles.printSchema()\n"
   ]
  },
  {
   "cell_type": "markdown",
   "id": "bf21e1b7",
   "metadata": {},
   "source": [
    "## Title Principles"
   ]
  },
  {
   "cell_type": "markdown",
   "id": "442830b8",
   "metadata": {},
   "source": [
    "Display the schema below:"
   ]
  },
  {
   "cell_type": "code",
   "execution_count": 11,
   "id": "b7241872",
   "metadata": {
    "execution": {
     "iopub.execute_input": "2025-03-10T23:25:04.854255Z",
     "iopub.status.busy": "2025-03-10T23:25:04.853770Z",
     "iopub.status.idle": "2025-03-10T23:25:04.945765Z",
     "shell.execute_reply": "2025-03-10T23:25:04.944838Z",
     "shell.execute_reply.started": "2025-03-10T23:25:04.854215Z"
    },
    "tags": []
   },
   "outputs": [
    {
     "data": {
      "application/vnd.jupyter.widget-view+json": {
       "model_id": "1e28f4cab2814e94ac0eb0df06e93c17",
       "version_major": 2,
       "version_minor": 0
      },
      "text/plain": [
       "VBox()"
      ]
     },
     "metadata": {},
     "output_type": "display_data"
    },
    {
     "data": {
      "application/vnd.jupyter.widget-view+json": {
       "model_id": "",
       "version_major": 2,
       "version_minor": 0
      },
      "text/plain": [
       "FloatProgress(value=0.0, bar_style='info', description='Progress:', layout=Layout(height='25px', width='50%'),…"
      ]
     },
     "metadata": {},
     "output_type": "display_data"
    },
    {
     "name": "stdout",
     "output_type": "stream",
     "text": [
      "root\n",
      " |-- tconst: string (nullable = true)\n",
      " |-- ordering: string (nullable = true)\n",
      " |-- nconst: string (nullable = true)\n",
      " |-- category: string (nullable = true)\n",
      " |-- job: string (nullable = true)\n",
      " |-- characters: string (nullable = true)"
     ]
    }
   ],
   "source": []
  },
  {
   "cell_type": "code",
   "execution_count": 11,
   "id": "1205ee8e",
   "metadata": {
    "execution": {
     "iopub.execute_input": "2025-04-06T01:49:37.614671Z",
     "iopub.status.busy": "2025-04-06T01:49:37.614486Z",
     "iopub.status.idle": "2025-04-06T01:49:37.660189Z",
     "shell.execute_reply": "2025-04-06T01:49:37.659342Z",
     "shell.execute_reply.started": "2025-04-06T01:49:37.614645Z"
    },
    "tags": [],
    "vscode": {
     "languageId": "plaintext"
    }
   },
   "outputs": [
    {
     "data": {
      "application/vnd.jupyter.widget-view+json": {
       "model_id": "7b38995aa3cb460da9cbf2de42fcc66b",
       "version_major": 2,
       "version_minor": 0
      },
      "text/plain": [
       "VBox()"
      ]
     },
     "metadata": {},
     "output_type": "display_data"
    },
    {
     "data": {
      "application/vnd.jupyter.widget-view+json": {
       "model_id": "",
       "version_major": 2,
       "version_minor": 0
      },
      "text/plain": [
       "FloatProgress(value=0.0, bar_style='info', description='Progress:', layout=Layout(height='25px', width='50%'),…"
      ]
     },
     "metadata": {},
     "output_type": "display_data"
    },
    {
     "name": "stdout",
     "output_type": "stream",
     "text": [
      "root\n",
      " |-- tconst: string (nullable = true)\n",
      " |-- ordering: string (nullable = true)\n",
      " |-- nconst: string (nullable = true)\n",
      " |-- category: string (nullable = true)\n",
      " |-- job: string (nullable = true)\n",
      " |-- characters: string (nullable = true)"
     ]
    }
   ],
   "source": [
    "principles.printSchema()"
   ]
  },
  {
   "cell_type": "markdown",
   "id": "e24870d3",
   "metadata": {},
   "source": [
    "Display the first 15 rows where the \"category\" column is \"producer\""
   ]
  },
  {
   "cell_type": "code",
   "execution_count": 12,
   "id": "3f6dbef1",
   "metadata": {
    "execution": {
     "iopub.execute_input": "2025-03-10T23:25:04.956717Z",
     "iopub.status.busy": "2025-03-10T23:25:04.947364Z",
     "iopub.status.idle": "2025-03-10T23:25:05.779813Z",
     "shell.execute_reply": "2025-03-10T23:25:05.779048Z",
     "shell.execute_reply.started": "2025-03-10T23:25:04.956674Z"
    },
    "tags": []
   },
   "outputs": [
    {
     "data": {
      "application/vnd.jupyter.widget-view+json": {
       "model_id": "61b4ebaf68484c07b6d38abd71e05d4e",
       "version_major": 2,
       "version_minor": 0
      },
      "text/plain": [
       "VBox()"
      ]
     },
     "metadata": {},
     "output_type": "display_data"
    },
    {
     "data": {
      "application/vnd.jupyter.widget-view+json": {
       "model_id": "",
       "version_major": 2,
       "version_minor": 0
      },
      "text/plain": [
       "FloatProgress(value=0.0, bar_style='info', description='Progress:', layout=Layout(height='25px', width='50%'),…"
      ]
     },
     "metadata": {},
     "output_type": "display_data"
    },
    {
     "name": "stdout",
     "output_type": "stream",
     "text": [
      "+---------+--------+---------+--------+--------+----------+\n",
      "|tconst   |ordering|nconst   |category|job     |characters|\n",
      "+---------+--------+---------+--------+--------+----------+\n",
      "|tt0000003|2       |nm1770680|producer|producer|\\N        |\n",
      "|tt0000005|4       |nm0249379|producer|producer|\\N        |\n",
      "|tt0000007|5       |nm0249379|producer|producer|\\N        |\n",
      "|tt0000020|2       |nm0666972|producer|producer|\\N        |\n",
      "|tt0000024|4       |nm0666972|producer|producer|\\N        |\n",
      "|tt0000025|2       |nm0666972|producer|producer|\\N        |\n",
      "|tt0000039|1       |nm0666972|producer|producer|\\N        |\n",
      "|tt0000041|2       |nm0525908|producer|producer|\\N        |\n",
      "|tt0000061|3       |nm0666972|producer|producer|\\N        |\n",
      "|tt0000089|3       |nm0525910|producer|producer|\\N        |\n",
      "|tt0000104|1       |nm0525910|producer|producer|\\N        |\n",
      "|tt0000121|5       |nm0666972|producer|producer|\\N        |\n",
      "|tt0000125|1       |nm0666972|producer|producer|\\N        |\n",
      "|tt0000147|6       |nm0103755|producer|producer|\\N        |\n",
      "|tt0000160|2       |nm0666972|producer|producer|\\N        |\n",
      "+---------+--------+---------+--------+--------+----------+\n",
      "only showing top 15 rows"
     ]
    }
   ],
   "source": []
  },
  {
   "cell_type": "code",
   "execution_count": 12,
   "id": "7932fe04",
   "metadata": {
    "execution": {
     "iopub.execute_input": "2025-04-06T01:49:37.661885Z",
     "iopub.status.busy": "2025-04-06T01:49:37.661629Z",
     "iopub.status.idle": "2025-04-06T01:49:38.417664Z",
     "shell.execute_reply": "2025-04-06T01:49:38.416919Z",
     "shell.execute_reply.started": "2025-04-06T01:49:37.661850Z"
    },
    "tags": [],
    "vscode": {
     "languageId": "plaintext"
    }
   },
   "outputs": [
    {
     "data": {
      "application/vnd.jupyter.widget-view+json": {
       "model_id": "664ab373aed8442ca77fa1652eeb1e94",
       "version_major": 2,
       "version_minor": 0
      },
      "text/plain": [
       "VBox()"
      ]
     },
     "metadata": {},
     "output_type": "display_data"
    },
    {
     "data": {
      "application/vnd.jupyter.widget-view+json": {
       "model_id": "",
       "version_major": 2,
       "version_minor": 0
      },
      "text/plain": [
       "FloatProgress(value=0.0, bar_style='info', description='Progress:', layout=Layout(height='25px', width='50%'),…"
      ]
     },
     "metadata": {},
     "output_type": "display_data"
    },
    {
     "name": "stdout",
     "output_type": "stream",
     "text": [
      "+---------+--------+---------+--------+--------+----------+\n",
      "|tconst   |ordering|nconst   |category|job     |characters|\n",
      "+---------+--------+---------+--------+--------+----------+\n",
      "|tt0000003|2       |nm1770680|producer|producer|\\N        |\n",
      "|tt0000005|4       |nm0249379|producer|producer|\\N        |\n",
      "|tt0000007|5       |nm0249379|producer|producer|\\N        |\n",
      "|tt0000020|2       |nm0666972|producer|producer|\\N        |\n",
      "|tt0000024|4       |nm0666972|producer|producer|\\N        |\n",
      "|tt0000025|2       |nm0666972|producer|producer|\\N        |\n",
      "|tt0000039|1       |nm0666972|producer|producer|\\N        |\n",
      "|tt0000041|2       |nm0525908|producer|producer|\\N        |\n",
      "|tt0000061|3       |nm0666972|producer|producer|\\N        |\n",
      "|tt0000089|3       |nm0525910|producer|producer|\\N        |\n",
      "|tt0000104|1       |nm0525910|producer|producer|\\N        |\n",
      "|tt0000121|5       |nm0666972|producer|producer|\\N        |\n",
      "|tt0000125|1       |nm0666972|producer|producer|\\N        |\n",
      "|tt0000147|6       |nm0103755|producer|producer|\\N        |\n",
      "|tt0000160|2       |nm0666972|producer|producer|\\N        |\n",
      "+---------+--------+---------+--------+--------+----------+\n",
      "only showing top 15 rows"
     ]
    }
   ],
   "source": [
    "principles.filter(principles.category == \"producer\").show(15, truncate=False)"
   ]
  },
  {
   "cell_type": "markdown",
   "id": "d8e128fc",
   "metadata": {},
   "source": [
    "## Title Ratings"
   ]
  },
  {
   "cell_type": "markdown",
   "id": "c40d60cd",
   "metadata": {},
   "source": [
    "Display the schema below:"
   ]
  },
  {
   "cell_type": "code",
   "execution_count": 13,
   "id": "1ed78395",
   "metadata": {
    "execution": {
     "iopub.execute_input": "2025-03-10T23:25:05.785748Z",
     "iopub.status.busy": "2025-03-10T23:25:05.785240Z",
     "iopub.status.idle": "2025-03-10T23:25:05.860036Z",
     "shell.execute_reply": "2025-03-10T23:25:05.857573Z",
     "shell.execute_reply.started": "2025-03-10T23:25:05.785707Z"
    },
    "tags": []
   },
   "outputs": [
    {
     "data": {
      "application/vnd.jupyter.widget-view+json": {
       "model_id": "3bcc634aa51a42a494af427118ee9257",
       "version_major": 2,
       "version_minor": 0
      },
      "text/plain": [
       "VBox()"
      ]
     },
     "metadata": {},
     "output_type": "display_data"
    },
    {
     "data": {
      "application/vnd.jupyter.widget-view+json": {
       "model_id": "",
       "version_major": 2,
       "version_minor": 0
      },
      "text/plain": [
       "FloatProgress(value=0.0, bar_style='info', description='Progress:', layout=Layout(height='25px', width='50%'),…"
      ]
     },
     "metadata": {},
     "output_type": "display_data"
    },
    {
     "name": "stdout",
     "output_type": "stream",
     "text": [
      "root\n",
      " |-- tconst: string (nullable = true)\n",
      " |-- averageRating: string (nullable = true)\n",
      " |-- numVotes: string (nullable = true)"
     ]
    }
   ],
   "source": []
  },
  {
   "cell_type": "code",
   "execution_count": 13,
   "id": "8fe497e5",
   "metadata": {
    "execution": {
     "iopub.execute_input": "2025-04-06T01:49:38.418835Z",
     "iopub.status.busy": "2025-04-06T01:49:38.418667Z",
     "iopub.status.idle": "2025-04-06T01:49:38.460750Z",
     "shell.execute_reply": "2025-04-06T01:49:38.460124Z",
     "shell.execute_reply.started": "2025-04-06T01:49:38.418812Z"
    },
    "tags": [],
    "vscode": {
     "languageId": "plaintext"
    }
   },
   "outputs": [
    {
     "data": {
      "application/vnd.jupyter.widget-view+json": {
       "model_id": "5b8412732fab4b838b3475c427d6e157",
       "version_major": 2,
       "version_minor": 0
      },
      "text/plain": [
       "VBox()"
      ]
     },
     "metadata": {},
     "output_type": "display_data"
    },
    {
     "data": {
      "application/vnd.jupyter.widget-view+json": {
       "model_id": "",
       "version_major": 2,
       "version_minor": 0
      },
      "text/plain": [
       "FloatProgress(value=0.0, bar_style='info', description='Progress:', layout=Layout(height='25px', width='50%'),…"
      ]
     },
     "metadata": {},
     "output_type": "display_data"
    },
    {
     "name": "stdout",
     "output_type": "stream",
     "text": [
      "root\n",
      " |-- tconst: string (nullable = true)\n",
      " |-- averageRating: string (nullable = true)\n",
      " |-- numVotes: string (nullable = true)"
     ]
    }
   ],
   "source": [
    "ratings.printSchema()"
   ]
  },
  {
   "cell_type": "markdown",
   "id": "76ac1ac7",
   "metadata": {},
   "source": [
    "Display the first 10 rows in a descending order by the number of votes"
   ]
  },
  {
   "cell_type": "code",
   "execution_count": 14,
   "id": "9f663e07",
   "metadata": {
    "execution": {
     "iopub.execute_input": "2025-03-10T23:25:05.862847Z",
     "iopub.status.busy": "2025-03-10T23:25:05.862354Z",
     "iopub.status.idle": "2025-03-10T23:25:08.153191Z",
     "shell.execute_reply": "2025-03-10T23:25:08.152466Z",
     "shell.execute_reply.started": "2025-03-10T23:25:05.862807Z"
    },
    "tags": []
   },
   "outputs": [
    {
     "data": {
      "application/vnd.jupyter.widget-view+json": {
       "model_id": "1c0330ff6a414e8a8b725fb92ffd0483",
       "version_major": 2,
       "version_minor": 0
      },
      "text/plain": [
       "VBox()"
      ]
     },
     "metadata": {},
     "output_type": "display_data"
    },
    {
     "data": {
      "application/vnd.jupyter.widget-view+json": {
       "model_id": "",
       "version_major": 2,
       "version_minor": 0
      },
      "text/plain": [
       "FloatProgress(value=0.0, bar_style='info', description='Progress:', layout=Layout(height='25px', width='50%'),…"
      ]
     },
     "metadata": {},
     "output_type": "display_data"
    },
    {
     "name": "stdout",
     "output_type": "stream",
     "text": [
      "+---------+-------------+--------+\n",
      "|   tconst|averageRating|numVotes|\n",
      "+---------+-------------+--------+\n",
      "|tt0111161|          9.3| 2868594|\n",
      "|tt0468569|          9.0| 2850372|\n",
      "|tt1375666|          8.8| 2531543|\n",
      "|tt0137523|          8.8| 2303989|\n",
      "|tt0944947|          9.2| 2265760|\n",
      "|tt0109830|          8.8| 2239746|\n",
      "|tt0110912|          8.9| 2203191|\n",
      "|tt0903747|          9.5| 2114358|\n",
      "|tt0816692|          8.7| 2073181|\n",
      "|tt0133093|          8.7| 2038364|\n",
      "+---------+-------------+--------+\n",
      "only showing top 10 rows"
     ]
    }
   ],
   "source": []
  },
  {
   "cell_type": "code",
   "execution_count": 14,
   "id": "fae46a11-619b-4f98-aa1f-99443bd4a2ad",
   "metadata": {
    "execution": {
     "iopub.execute_input": "2025-04-06T01:49:38.461886Z",
     "iopub.status.busy": "2025-04-06T01:49:38.461710Z",
     "iopub.status.idle": "2025-04-06T01:49:40.731583Z",
     "shell.execute_reply": "2025-04-06T01:49:40.729446Z",
     "shell.execute_reply.started": "2025-04-06T01:49:38.461861Z"
    },
    "tags": []
   },
   "outputs": [
    {
     "data": {
      "application/vnd.jupyter.widget-view+json": {
       "model_id": "c5037002b37545e587be0091f0147d44",
       "version_major": 2,
       "version_minor": 0
      },
      "text/plain": [
       "VBox()"
      ]
     },
     "metadata": {},
     "output_type": "display_data"
    },
    {
     "data": {
      "application/vnd.jupyter.widget-view+json": {
       "model_id": "",
       "version_major": 2,
       "version_minor": 0
      },
      "text/plain": [
       "FloatProgress(value=0.0, bar_style='info', description='Progress:', layout=Layout(height='25px', width='50%'),…"
      ]
     },
     "metadata": {},
     "output_type": "display_data"
    },
    {
     "name": "stdout",
     "output_type": "stream",
     "text": [
      "+---------+-------------+--------+\n",
      "|tconst   |averageRating|numVotes|\n",
      "+---------+-------------+--------+\n",
      "|tt0111161|9.3          |2868594 |\n",
      "|tt0468569|9.0          |2850372 |\n",
      "|tt1375666|8.8          |2531543 |\n",
      "|tt0137523|8.8          |2303989 |\n",
      "|tt0944947|9.2          |2265760 |\n",
      "|tt0109830|8.8          |2239746 |\n",
      "|tt0110912|8.9          |2203191 |\n",
      "|tt0903747|9.5          |2114358 |\n",
      "|tt0816692|8.7          |2073181 |\n",
      "|tt0133093|8.7          |2038364 |\n",
      "+---------+-------------+--------+\n",
      "only showing top 10 rows"
     ]
    }
   ],
   "source": [
    "from pyspark.sql.functions import col\n",
    "\n",
    "ratings.select(\"tconst\", \"averageRating\", \"numVotes\") \\\n",
    "    .withColumn(\"numVotes\", col(\"numVotes\").cast(\"int\")) \\\n",
    "    .sort(col(\"numVotes\").desc()) \\\n",
    "    .show(10, truncate=False)\n"
   ]
  },
  {
   "cell_type": "markdown",
   "id": "e77cf460",
   "metadata": {},
   "source": [
    "# Overview of Data"
   ]
  },
  {
   "cell_type": "markdown",
   "id": "2bc943bf",
   "metadata": {},
   "source": [
    "Display the number of rows and columns in each dataFrame object."
   ]
  },
  {
   "cell_type": "code",
   "execution_count": 15,
   "id": "15b35f7a",
   "metadata": {
    "execution": {
     "iopub.execute_input": "2025-03-10T23:25:08.154246Z",
     "iopub.status.busy": "2025-03-10T23:25:08.154060Z",
     "iopub.status.idle": "2025-03-10T23:25:25.531125Z",
     "shell.execute_reply": "2025-03-10T23:25:25.530417Z",
     "shell.execute_reply.started": "2025-03-10T23:25:08.154221Z"
    },
    "tags": []
   },
   "outputs": [
    {
     "data": {
      "application/vnd.jupyter.widget-view+json": {
       "model_id": "3f06c5fdc3fb48348fe0a53c40d450e9",
       "version_major": 2,
       "version_minor": 0
      },
      "text/plain": [
       "VBox()"
      ]
     },
     "metadata": {},
     "output_type": "display_data"
    },
    {
     "data": {
      "application/vnd.jupyter.widget-view+json": {
       "model_id": "",
       "version_major": 2,
       "version_minor": 0
      },
      "text/plain": [
       "FloatProgress(value=0.0, bar_style='info', description='Progress:', layout=Layout(height='25px', width='50%'),…"
      ]
     },
     "metadata": {},
     "output_type": "display_data"
    },
    {
     "name": "stdout",
     "output_type": "stream",
     "text": [
      "Number of columns in Name Basics table: 6\n",
      "Number of rows in Name Basics table: 13329316\n",
      "\n",
      "Number of columns in Title Basics table: 8\n",
      "Number of rows in Title Basics table: 10613322\n",
      "\n",
      "Number of columns in Title Principles table: 6\n",
      "Number of rows in Title Principles table: 60833800\n",
      "\n",
      "Number of columns in Title Ratings table: 3\n",
      "Number of rows in Title Ratings table: 1412275"
     ]
    }
   ],
   "source": []
  },
  {
   "cell_type": "code",
   "execution_count": 15,
   "id": "5ca759ed",
   "metadata": {
    "execution": {
     "iopub.execute_input": "2025-04-06T01:49:40.741281Z",
     "iopub.status.busy": "2025-04-06T01:49:40.732850Z",
     "iopub.status.idle": "2025-04-06T01:49:58.108752Z",
     "shell.execute_reply": "2025-04-06T01:49:58.107954Z",
     "shell.execute_reply.started": "2025-04-06T01:49:40.741248Z"
    },
    "tags": [],
    "vscode": {
     "languageId": "plaintext"
    }
   },
   "outputs": [
    {
     "data": {
      "application/vnd.jupyter.widget-view+json": {
       "model_id": "7b37c9456c164754ae58fa0f561cf81f",
       "version_major": 2,
       "version_minor": 0
      },
      "text/plain": [
       "VBox()"
      ]
     },
     "metadata": {},
     "output_type": "display_data"
    },
    {
     "data": {
      "application/vnd.jupyter.widget-view+json": {
       "model_id": "",
       "version_major": 2,
       "version_minor": 0
      },
      "text/plain": [
       "FloatProgress(value=0.0, bar_style='info', description='Progress:', layout=Layout(height='25px', width='50%'),…"
      ]
     },
     "metadata": {},
     "output_type": "display_data"
    },
    {
     "name": "stdout",
     "output_type": "stream",
     "text": [
      "Number of columns in Name Basics table: 6\n",
      "Number of rows in Name Basics table: 13329316\n",
      "\n",
      "Number of columns in Title Basics table: 8\n",
      "Number of rows in Title Basics table: 10613322\n",
      "\n",
      "Number of columns in Title Principles table: 6\n",
      "Number of rows in Title Principles table: 60833800\n",
      "\n",
      "Number of columns in Title Ratings table: 3\n",
      "Number of rows in Title Ratings table: 1412275"
     ]
    }
   ],
   "source": [
    "dataframes = {\n",
    "    \"Name Basics\": name,\n",
    "    \"Title Basics\": titles,\n",
    "    \"Title Principles\": principles,\n",
    "    \"Title Ratings\": ratings\n",
    "}\n",
    "\n",
    "for name, df in dataframes.items():\n",
    "    print(f\"Number of columns in {name} table: {len(df.columns)}\")\n",
    "    print(f\"Number of rows in {name} table: {df.count()}\\n\")\n"
   ]
  },
  {
   "cell_type": "markdown",
   "id": "b45c87a7",
   "metadata": {},
   "source": [
    "# PART 2 - Analyzing Movie Genres"
   ]
  },
  {
   "cell_type": "markdown",
   "id": "37c839bd",
   "metadata": {},
   "source": [
    "Let's now answer this question: how many unique movie genres are represented in this dataset?\n",
    "\n",
    "Essentially, we have the genres per movie as a list - this is useful to quickly see what each movie might be represented as but it is difficult to easily answer questions such as:\n",
    "\n",
    "* How many movies are categorized as Comedy, for instance?\n",
    "* What are the top 20 most popular genres available?"
   ]
  },
  {
   "cell_type": "markdown",
   "id": "509eb185",
   "metadata": {},
   "source": [
    "## Association Table\n",
    "\n",
    "We need to \"break out\" these genres from the tconst? One common approach to take is to build an association table mapping a single tconst multiple times to each distinct genre.\n",
    "\n",
    "For instance, given the following:\n",
    "\n",
    "\n",
    "| tconst   | titleType  |genres |\n",
    "|----------|------------|-------|\n",
    "| abcd123  | XXX        |a,b,c  |\n",
    "\n",
    "We would like to derive something like:\n",
    "\n",
    "| tconst   |  titleType |genre |\n",
    "|----------|------------|------|\n",
    "| abcd123  | XXX        |a     |\n",
    "| abcd123  | XXX        |b     |\n",
    "| abcd123  | XXX        |c     |\n",
    "\n",
    "\n",
    "What this does is allow us to then perform a myriad of rollups and other analysis on this association table which can aid us in answering the questions asked above.\n",
    "\n",
    "First, derive the table with the following columns:\n",
    "\n",
    "* `tconst`    \n",
    "* `titleType`\n",
    "* `genres`"
   ]
  },
  {
   "cell_type": "code",
   "execution_count": 16,
   "id": "6da24c15",
   "metadata": {
    "execution": {
     "iopub.execute_input": "2025-03-10T23:25:25.532487Z",
     "iopub.status.busy": "2025-03-10T23:25:25.532244Z",
     "iopub.status.idle": "2025-03-10T23:25:25.785729Z",
     "shell.execute_reply": "2025-03-10T23:25:25.785066Z",
     "shell.execute_reply.started": "2025-03-10T23:25:25.532451Z"
    },
    "tags": []
   },
   "outputs": [
    {
     "data": {
      "application/vnd.jupyter.widget-view+json": {
       "model_id": "e222770ae85945eca119c16ae344d4ef",
       "version_major": 2,
       "version_minor": 0
      },
      "text/plain": [
       "VBox()"
      ]
     },
     "metadata": {},
     "output_type": "display_data"
    },
    {
     "data": {
      "application/vnd.jupyter.widget-view+json": {
       "model_id": "",
       "version_major": 2,
       "version_minor": 0
      },
      "text/plain": [
       "FloatProgress(value=0.0, bar_style='info', description='Progress:', layout=Layout(height='25px', width='50%'),…"
      ]
     },
     "metadata": {},
     "output_type": "display_data"
    },
    {
     "name": "stdout",
     "output_type": "stream",
     "text": [
      "+---------+---------+------------------------+\n",
      "|tconst   |titleType|genres                  |\n",
      "+---------+---------+------------------------+\n",
      "|tt0000001|short    |Documentary,Short       |\n",
      "|tt0000002|short    |Animation,Short         |\n",
      "|tt0000003|short    |Animation,Comedy,Romance|\n",
      "|tt0000004|short    |Animation,Short         |\n",
      "|tt0000005|short    |Comedy,Short            |\n",
      "|tt0000006|short    |Short                   |\n",
      "|tt0000007|short    |Short,Sport             |\n",
      "|tt0000008|short    |Documentary,Short       |\n",
      "|tt0000009|movie    |Romance                 |\n",
      "|tt0000010|short    |Documentary,Short       |\n",
      "|tt0000011|short    |Documentary,Short       |\n",
      "|tt0000012|short    |Documentary,Short       |\n",
      "|tt0000013|short    |Documentary,Short       |\n",
      "|tt0000014|short    |Comedy,Short            |\n",
      "|tt0000015|short    |Animation,Short         |\n",
      "+---------+---------+------------------------+\n",
      "only showing top 15 rows"
     ]
    }
   ],
   "source": []
  },
  {
   "cell_type": "code",
   "execution_count": 16,
   "id": "a6c03d96",
   "metadata": {
    "execution": {
     "iopub.execute_input": "2025-04-06T01:49:58.110621Z",
     "iopub.status.busy": "2025-04-06T01:49:58.110106Z",
     "iopub.status.idle": "2025-04-06T01:49:58.396407Z",
     "shell.execute_reply": "2025-04-06T01:49:58.395650Z",
     "shell.execute_reply.started": "2025-04-06T01:49:58.110580Z"
    },
    "tags": [],
    "vscode": {
     "languageId": "plaintext"
    }
   },
   "outputs": [
    {
     "data": {
      "application/vnd.jupyter.widget-view+json": {
       "model_id": "b8dafcca52a14b9f92258664a2146a8b",
       "version_major": 2,
       "version_minor": 0
      },
      "text/plain": [
       "VBox()"
      ]
     },
     "metadata": {},
     "output_type": "display_data"
    },
    {
     "data": {
      "application/vnd.jupyter.widget-view+json": {
       "model_id": "",
       "version_major": 2,
       "version_minor": 0
      },
      "text/plain": [
       "FloatProgress(value=0.0, bar_style='info', description='Progress:', layout=Layout(height='25px', width='50%'),…"
      ]
     },
     "metadata": {},
     "output_type": "display_data"
    },
    {
     "name": "stdout",
     "output_type": "stream",
     "text": [
      "+---------+---------+------------------------+\n",
      "|tconst   |titleType|genres                  |\n",
      "+---------+---------+------------------------+\n",
      "|tt0000001|short    |Documentary,Short       |\n",
      "|tt0000002|short    |Animation,Short         |\n",
      "|tt0000003|short    |Animation,Comedy,Romance|\n",
      "|tt0000004|short    |Animation,Short         |\n",
      "|tt0000005|short    |Comedy,Short            |\n",
      "|tt0000006|short    |Short                   |\n",
      "|tt0000007|short    |Short,Sport             |\n",
      "|tt0000008|short    |Documentary,Short       |\n",
      "|tt0000009|movie    |Romance                 |\n",
      "|tt0000010|short    |Documentary,Short       |\n",
      "|tt0000011|short    |Documentary,Short       |\n",
      "|tt0000012|short    |Documentary,Short       |\n",
      "|tt0000013|short    |Documentary,Short       |\n",
      "|tt0000014|short    |Comedy,Short            |\n",
      "|tt0000015|short    |Animation,Short         |\n",
      "+---------+---------+------------------------+\n",
      "only showing top 15 rows"
     ]
    }
   ],
   "source": [
    "titles.select(\"tconst\", \"titleType\", \"genres\").show(15, truncate=False)\n"
   ]
  },
  {
   "cell_type": "markdown",
   "id": "7e215c7e",
   "metadata": {},
   "source": [
    "Implement the code necessary to derive the table described from the data set. Display the first 25 rows of your association table below"
   ]
  },
  {
   "cell_type": "code",
   "execution_count": 17,
   "id": "eee1cc98",
   "metadata": {
    "execution": {
     "iopub.execute_input": "2025-03-10T23:25:25.787578Z",
     "iopub.status.busy": "2025-03-10T23:25:25.786942Z",
     "iopub.status.idle": "2025-03-10T23:25:26.553762Z",
     "shell.execute_reply": "2025-03-10T23:25:26.553023Z",
     "shell.execute_reply.started": "2025-03-10T23:25:25.787529Z"
    },
    "tags": []
   },
   "outputs": [
    {
     "data": {
      "application/vnd.jupyter.widget-view+json": {
       "model_id": "cab17c7f434b41f48a2f74b8989ed24a",
       "version_major": 2,
       "version_minor": 0
      },
      "text/plain": [
       "VBox()"
      ]
     },
     "metadata": {},
     "output_type": "display_data"
    },
    {
     "data": {
      "application/vnd.jupyter.widget-view+json": {
       "model_id": "",
       "version_major": 2,
       "version_minor": 0
      },
      "text/plain": [
       "FloatProgress(value=0.0, bar_style='info', description='Progress:', layout=Layout(height='25px', width='50%'),…"
      ]
     },
     "metadata": {},
     "output_type": "display_data"
    },
    {
     "name": "stdout",
     "output_type": "stream",
     "text": [
      "+---------+---------+-----------+\n",
      "|tconst   |titleType|Genre      |\n",
      "+---------+---------+-----------+\n",
      "|tt0000001|short    |Documentary|\n",
      "|tt0000001|short    |Short      |\n",
      "|tt0000002|short    |Animation  |\n",
      "|tt0000002|short    |Short      |\n",
      "|tt0000003|short    |Animation  |\n",
      "|tt0000003|short    |Comedy     |\n",
      "|tt0000003|short    |Romance    |\n",
      "|tt0000004|short    |Animation  |\n",
      "|tt0000004|short    |Short      |\n",
      "|tt0000005|short    |Comedy     |\n",
      "|tt0000005|short    |Short      |\n",
      "|tt0000006|short    |Short      |\n",
      "|tt0000007|short    |Short      |\n",
      "|tt0000007|short    |Sport      |\n",
      "|tt0000008|short    |Documentary|\n",
      "|tt0000008|short    |Short      |\n",
      "|tt0000009|movie    |Romance    |\n",
      "|tt0000010|short    |Documentary|\n",
      "|tt0000010|short    |Short      |\n",
      "|tt0000011|short    |Documentary|\n",
      "|tt0000011|short    |Short      |\n",
      "|tt0000012|short    |Documentary|\n",
      "|tt0000012|short    |Short      |\n",
      "|tt0000013|short    |Documentary|\n",
      "|tt0000013|short    |Short      |\n",
      "+---------+---------+-----------+\n",
      "only showing top 25 rows"
     ]
    }
   ],
   "source": []
  },
  {
   "cell_type": "code",
   "execution_count": 17,
   "id": "1b15ce47",
   "metadata": {
    "execution": {
     "iopub.execute_input": "2025-04-06T01:49:58.400769Z",
     "iopub.status.busy": "2025-04-06T01:49:58.398574Z",
     "iopub.status.idle": "2025-04-06T01:49:58.692009Z",
     "shell.execute_reply": "2025-04-06T01:49:58.691223Z",
     "shell.execute_reply.started": "2025-04-06T01:49:58.400728Z"
    },
    "tags": [],
    "vscode": {
     "languageId": "plaintext"
    }
   },
   "outputs": [
    {
     "data": {
      "application/vnd.jupyter.widget-view+json": {
       "model_id": "e3ff683f512c4fe8bcfc9231774c73c1",
       "version_major": 2,
       "version_minor": 0
      },
      "text/plain": [
       "VBox()"
      ]
     },
     "metadata": {},
     "output_type": "display_data"
    },
    {
     "data": {
      "application/vnd.jupyter.widget-view+json": {
       "model_id": "",
       "version_major": 2,
       "version_minor": 0
      },
      "text/plain": [
       "FloatProgress(value=0.0, bar_style='info', description='Progress:', layout=Layout(height='25px', width='50%'),…"
      ]
     },
     "metadata": {},
     "output_type": "display_data"
    },
    {
     "name": "stdout",
     "output_type": "stream",
     "text": [
      "+---------+---------+-----------+\n",
      "|tconst   |titleType|Genre      |\n",
      "+---------+---------+-----------+\n",
      "|tt0000001|short    |Documentary|\n",
      "|tt0000001|short    |Short      |\n",
      "|tt0000002|short    |Animation  |\n",
      "|tt0000002|short    |Short      |\n",
      "|tt0000003|short    |Animation  |\n",
      "|tt0000003|short    |Comedy     |\n",
      "|tt0000003|short    |Romance    |\n",
      "|tt0000004|short    |Animation  |\n",
      "|tt0000004|short    |Short      |\n",
      "|tt0000005|short    |Comedy     |\n",
      "|tt0000005|short    |Short      |\n",
      "|tt0000006|short    |Short      |\n",
      "|tt0000007|short    |Short      |\n",
      "|tt0000007|short    |Sport      |\n",
      "|tt0000008|short    |Documentary|\n",
      "|tt0000008|short    |Short      |\n",
      "|tt0000009|movie    |Romance    |\n",
      "|tt0000010|short    |Documentary|\n",
      "|tt0000010|short    |Short      |\n",
      "|tt0000011|short    |Documentary|\n",
      "|tt0000011|short    |Short      |\n",
      "|tt0000012|short    |Documentary|\n",
      "|tt0000012|short    |Short      |\n",
      "|tt0000013|short    |Documentary|\n",
      "|tt0000013|short    |Short      |\n",
      "+---------+---------+-----------+\n",
      "only showing top 25 rows"
     ]
    }
   ],
   "source": [
    "from pyspark.sql.functions import split, explode\n",
    "\n",
    "# Split the genres column by comma and explode into multiple rows\n",
    "association_table = titles.select(\"tconst\", \"titleType\", explode(split(\"genres\", \",\")).alias(\"Genre\"))\n",
    "\n",
    "# Show the first 25 rows\n",
    "association_table.show(25, truncate=False)\n"
   ]
  },
  {
   "cell_type": "markdown",
   "id": "9a80280d",
   "metadata": {},
   "source": [
    "## Total Unique Movie Genres"
   ]
  },
  {
   "cell_type": "markdown",
   "id": "b0db9e0c",
   "metadata": {},
   "source": [
    "What is the total number of unique movie genres?"
   ]
  },
  {
   "cell_type": "code",
   "execution_count": 18,
   "id": "c6044252",
   "metadata": {
    "execution": {
     "iopub.execute_input": "2025-03-10T23:25:26.555075Z",
     "iopub.status.busy": "2025-03-10T23:25:26.554820Z",
     "iopub.status.idle": "2025-03-10T23:25:33.851216Z",
     "shell.execute_reply": "2025-03-10T23:25:33.850464Z",
     "shell.execute_reply.started": "2025-03-10T23:25:26.555037Z"
    },
    "tags": []
   },
   "outputs": [
    {
     "data": {
      "application/vnd.jupyter.widget-view+json": {
       "model_id": "10dd921547bc4f9bac309a8b07428e8c",
       "version_major": 2,
       "version_minor": 0
      },
      "text/plain": [
       "VBox()"
      ]
     },
     "metadata": {},
     "output_type": "display_data"
    },
    {
     "data": {
      "application/vnd.jupyter.widget-view+json": {
       "model_id": "",
       "version_major": 2,
       "version_minor": 0
      },
      "text/plain": [
       "FloatProgress(value=0.0, bar_style='info', description='Progress:', layout=Layout(height='25px', width='50%'),…"
      ]
     },
     "metadata": {},
     "output_type": "display_data"
    },
    {
     "name": "stdout",
     "output_type": "stream",
     "text": [
      "29"
     ]
    }
   ],
   "source": []
  },
  {
   "cell_type": "code",
   "execution_count": 18,
   "id": "7d8a7907",
   "metadata": {
    "execution": {
     "iopub.execute_input": "2025-04-06T01:49:58.693259Z",
     "iopub.status.busy": "2025-04-06T01:49:58.693083Z",
     "iopub.status.idle": "2025-04-06T01:50:08.206599Z",
     "shell.execute_reply": "2025-04-06T01:50:08.205808Z",
     "shell.execute_reply.started": "2025-04-06T01:49:58.693235Z"
    },
    "tags": [],
    "vscode": {
     "languageId": "plaintext"
    }
   },
   "outputs": [
    {
     "data": {
      "application/vnd.jupyter.widget-view+json": {
       "model_id": "3c09d876cca944a3a8dc918df23c88ea",
       "version_major": 2,
       "version_minor": 0
      },
      "text/plain": [
       "VBox()"
      ]
     },
     "metadata": {},
     "output_type": "display_data"
    },
    {
     "data": {
      "application/vnd.jupyter.widget-view+json": {
       "model_id": "",
       "version_major": 2,
       "version_minor": 0
      },
      "text/plain": [
       "FloatProgress(value=0.0, bar_style='info', description='Progress:', layout=Layout(height='25px', width='50%'),…"
      ]
     },
     "metadata": {},
     "output_type": "display_data"
    },
    {
     "name": "stdout",
     "output_type": "stream",
     "text": [
      "28"
     ]
    }
   ],
   "source": [
    "association_table.select(\"Genre\").distinct().count()"
   ]
  },
  {
   "cell_type": "markdown",
   "id": "5819adcc",
   "metadata": {},
   "source": [
    "What are the unique movie genres?"
   ]
  },
  {
   "cell_type": "code",
   "execution_count": 19,
   "id": "2ecdf3ad",
   "metadata": {
    "execution": {
     "iopub.execute_input": "2025-03-10T23:25:33.852717Z",
     "iopub.status.busy": "2025-03-10T23:25:33.852458Z",
     "iopub.status.idle": "2025-03-10T23:25:41.153074Z",
     "shell.execute_reply": "2025-03-10T23:25:41.152216Z",
     "shell.execute_reply.started": "2025-03-10T23:25:33.852680Z"
    },
    "tags": []
   },
   "outputs": [
    {
     "data": {
      "application/vnd.jupyter.widget-view+json": {
       "model_id": "fdf8e752e49c4c4195aed22cf2a59521",
       "version_major": 2,
       "version_minor": 0
      },
      "text/plain": [
       "VBox()"
      ]
     },
     "metadata": {},
     "output_type": "display_data"
    },
    {
     "data": {
      "application/vnd.jupyter.widget-view+json": {
       "model_id": "",
       "version_major": 2,
       "version_minor": 0
      },
      "text/plain": [
       "FloatProgress(value=0.0, bar_style='info', description='Progress:', layout=Layout(height='25px', width='50%'),…"
      ]
     },
     "metadata": {},
     "output_type": "display_data"
    },
    {
     "name": "stdout",
     "output_type": "stream",
     "text": [
      "+-----------+\n",
      "|Genre      |\n",
      "+-----------+\n",
      "|Mystery    |\n",
      "|Musical    |\n",
      "|Sport      |\n",
      "|Action     |\n",
      "|Talk-Show  |\n",
      "|Romance    |\n",
      "|Thriller   |\n",
      "|\\N         |\n",
      "|Reality-TV |\n",
      "|Family     |\n",
      "|Fantasy    |\n",
      "|History    |\n",
      "|Animation  |\n",
      "|Film-Noir  |\n",
      "|Short      |\n",
      "|Sci-Fi     |\n",
      "|News       |\n",
      "|Drama      |\n",
      "|Documentary|\n",
      "|Western    |\n",
      "|Comedy     |\n",
      "|Crime      |\n",
      "|War        |\n",
      "|Game-Show  |\n",
      "|Adult      |\n",
      "|Music      |\n",
      "|Biography  |\n",
      "|Adventure  |\n",
      "|Horror     |\n",
      "+-----------+"
     ]
    }
   ],
   "source": []
  },
  {
   "cell_type": "markdown",
   "id": "4c5f3022",
   "metadata": {},
   "source": [
    "Oops! Something is off!"
   ]
  },
  {
   "cell_type": "code",
   "execution_count": 19,
   "id": "fb543877",
   "metadata": {
    "execution": {
     "iopub.execute_input": "2025-04-06T01:50:08.208135Z",
     "iopub.status.busy": "2025-04-06T01:50:08.207884Z",
     "iopub.status.idle": "2025-04-06T01:50:25.725249Z",
     "shell.execute_reply": "2025-04-06T01:50:25.724524Z",
     "shell.execute_reply.started": "2025-04-06T01:50:08.208096Z"
    },
    "tags": [],
    "vscode": {
     "languageId": "plaintext"
    }
   },
   "outputs": [
    {
     "data": {
      "application/vnd.jupyter.widget-view+json": {
       "model_id": "2b299b46966940bb807eb042c9ded285",
       "version_major": 2,
       "version_minor": 0
      },
      "text/plain": [
       "VBox()"
      ]
     },
     "metadata": {},
     "output_type": "display_data"
    },
    {
     "data": {
      "application/vnd.jupyter.widget-view+json": {
       "model_id": "",
       "version_major": 2,
       "version_minor": 0
      },
      "text/plain": [
       "FloatProgress(value=0.0, bar_style='info', description='Progress:', layout=Layout(height='25px', width='50%'),…"
      ]
     },
     "metadata": {},
     "output_type": "display_data"
    },
    {
     "name": "stdout",
     "output_type": "stream",
     "text": [
      "+-----------+\n",
      "|Genre      |\n",
      "+-----------+\n",
      "|Mystery    |\n",
      "|Musical    |\n",
      "|Sport      |\n",
      "|Action     |\n",
      "|Talk-Show  |\n",
      "|Romance    |\n",
      "|Thriller   |\n",
      "|Reality-TV |\n",
      "|Family     |\n",
      "|Fantasy    |\n",
      "|History    |\n",
      "|Animation  |\n",
      "|Film-Noir  |\n",
      "|Short      |\n",
      "|Sci-Fi     |\n",
      "|News       |\n",
      "|Drama      |\n",
      "|Documentary|\n",
      "|Western    |\n",
      "|Comedy     |\n",
      "|Crime      |\n",
      "|War        |\n",
      "|Game-Show  |\n",
      "|Adult      |\n",
      "|Music      |\n",
      "|Biography  |\n",
      "|Adventure  |\n",
      "|Horror     |\n",
      "+-----------+"
     ]
    }
   ],
   "source": [
    "association_table.select(\"Genre\").distinct().show(truncate=False, n=association_table.select(\"Genre\").distinct().count())\n"
   ]
  },
  {
   "cell_type": "code",
   "execution_count": 20,
   "id": "e699b5ae",
   "metadata": {
    "execution": {
     "iopub.execute_input": "2025-03-10T23:25:41.154577Z",
     "iopub.status.busy": "2025-03-10T23:25:41.154336Z",
     "iopub.status.idle": "2025-03-10T23:25:48.440653Z",
     "shell.execute_reply": "2025-03-10T23:25:48.439901Z",
     "shell.execute_reply.started": "2025-03-10T23:25:41.154540Z"
    },
    "tags": []
   },
   "outputs": [
    {
     "data": {
      "application/vnd.jupyter.widget-view+json": {
       "model_id": "a56741190a3e40d8ad4a0ce642ae2a5f",
       "version_major": 2,
       "version_minor": 0
      },
      "text/plain": [
       "VBox()"
      ]
     },
     "metadata": {},
     "output_type": "display_data"
    },
    {
     "data": {
      "application/vnd.jupyter.widget-view+json": {
       "model_id": "",
       "version_major": 2,
       "version_minor": 0
      },
      "text/plain": [
       "FloatProgress(value=0.0, bar_style='info', description='Progress:', layout=Layout(height='25px', width='50%'),…"
      ]
     },
     "metadata": {},
     "output_type": "display_data"
    },
    {
     "name": "stdout",
     "output_type": "stream",
     "text": [
      "+-----------+\n",
      "|Genre      |\n",
      "+-----------+\n",
      "|Mystery    |\n",
      "|Musical    |\n",
      "|Sport      |\n",
      "|Action     |\n",
      "|Talk-Show  |\n",
      "|Romance    |\n",
      "|Thriller   |\n",
      "|Reality-TV |\n",
      "|Family     |\n",
      "|Fantasy    |\n",
      "|History    |\n",
      "|Animation  |\n",
      "|Film-Noir  |\n",
      "|Short      |\n",
      "|Sci-Fi     |\n",
      "|News       |\n",
      "|Drama      |\n",
      "|Documentary|\n",
      "|Western    |\n",
      "|Comedy     |\n",
      "|Crime      |\n",
      "|War        |\n",
      "|Game-Show  |\n",
      "|Adult      |\n",
      "|Music      |\n",
      "|Biography  |\n",
      "|Adventure  |\n",
      "|Horror     |\n",
      "+-----------+"
     ]
    }
   ],
   "source": []
  },
  {
   "cell_type": "code",
   "execution_count": 20,
   "id": "38072881",
   "metadata": {
    "execution": {
     "iopub.execute_input": "2025-04-06T01:50:25.726729Z",
     "iopub.status.busy": "2025-04-06T01:50:25.726487Z",
     "iopub.status.idle": "2025-04-06T01:50:43.039915Z",
     "shell.execute_reply": "2025-04-06T01:50:43.039210Z",
     "shell.execute_reply.started": "2025-04-06T01:50:25.726690Z"
    },
    "tags": [],
    "vscode": {
     "languageId": "plaintext"
    }
   },
   "outputs": [
    {
     "data": {
      "application/vnd.jupyter.widget-view+json": {
       "model_id": "ebef419930a44117b235a36eaa7b0074",
       "version_major": 2,
       "version_minor": 0
      },
      "text/plain": [
       "VBox()"
      ]
     },
     "metadata": {},
     "output_type": "display_data"
    },
    {
     "data": {
      "application/vnd.jupyter.widget-view+json": {
       "model_id": "",
       "version_major": 2,
       "version_minor": 0
      },
      "text/plain": [
       "FloatProgress(value=0.0, bar_style='info', description='Progress:', layout=Layout(height='25px', width='50%'),…"
      ]
     },
     "metadata": {},
     "output_type": "display_data"
    },
    {
     "name": "stdout",
     "output_type": "stream",
     "text": [
      "+-----------+\n",
      "|Genre      |\n",
      "+-----------+\n",
      "|Mystery    |\n",
      "|Musical    |\n",
      "|Sport      |\n",
      "|Action     |\n",
      "|Talk-Show  |\n",
      "|Romance    |\n",
      "|Thriller   |\n",
      "|Reality-TV |\n",
      "|Family     |\n",
      "|Fantasy    |\n",
      "|History    |\n",
      "|Animation  |\n",
      "|Film-Noir  |\n",
      "|Short      |\n",
      "|Sci-Fi     |\n",
      "|News       |\n",
      "|Drama      |\n",
      "|Documentary|\n",
      "|Western    |\n",
      "|Comedy     |\n",
      "|Crime      |\n",
      "|War        |\n",
      "|Game-Show  |\n",
      "|Adult      |\n",
      "|Music      |\n",
      "|Biography  |\n",
      "|Adventure  |\n",
      "|Horror     |\n",
      "+-----------+"
     ]
    }
   ],
   "source": [
    "filter_genre = association_table.filter((association_table.Genre != \"\") & (association_table.Genre != \"\\\\N\"))\n",
    "\n",
    "filter_genre.select(\"Genre\").distinct().show(truncate=False, n=association_table.select(\"Genre\").distinct().count())\n"
   ]
  },
  {
   "cell_type": "markdown",
   "id": "b7d29ebd",
   "metadata": {},
   "source": [
    "## Top Genres by Movies\n",
    "\n",
    "Now let's find the highest rated genres in this dataset by rolling up genres."
   ]
  },
  {
   "cell_type": "markdown",
   "id": "de4c28e3",
   "metadata": {},
   "source": [
    "### Average Rating / Genre"
   ]
  },
  {
   "cell_type": "markdown",
   "id": "49f1153c",
   "metadata": {},
   "source": [
    "So now, let's unroll our distinct count a bit and display the per average rating value of per genre.\n",
    "\n",
    "The expected output should be:\n",
    "\n",
    "| genre | averageRating |\n",
    "|-------------|------------|\n",
    "| a     | 8.5         |\n",
    "| b     | 6.3         |\n",
    "| c     | 7.2         |\n",
    "\n",
    "Or something to that effect."
   ]
  },
  {
   "cell_type": "markdown",
   "id": "15423dc6",
   "metadata": {},
   "source": [
    "First, let's join our two dataframes (title ratings and title basics) by tconst. Use inner join. You can goolge to find out how join works in PySpark."
   ]
  },
  {
   "cell_type": "code",
   "execution_count": 21,
   "id": "71b5d21b",
   "metadata": {
    "execution": {
     "iopub.execute_input": "2025-03-10T23:25:48.441703Z",
     "iopub.status.busy": "2025-03-10T23:25:48.441535Z",
     "iopub.status.idle": "2025-03-10T23:25:57.741765Z",
     "shell.execute_reply": "2025-03-10T23:25:57.741005Z",
     "shell.execute_reply.started": "2025-03-10T23:25:48.441680Z"
    },
    "tags": []
   },
   "outputs": [
    {
     "data": {
      "application/vnd.jupyter.widget-view+json": {
       "model_id": "84cd7c196632426cad28c7f62afd5711",
       "version_major": 2,
       "version_minor": 0
      },
      "text/plain": [
       "VBox()"
      ]
     },
     "metadata": {},
     "output_type": "display_data"
    },
    {
     "data": {
      "application/vnd.jupyter.widget-view+json": {
       "model_id": "",
       "version_major": 2,
       "version_minor": 0
      },
      "text/plain": [
       "FloatProgress(value=0.0, bar_style='info', description='Progress:', layout=Layout(height='25px', width='50%'),…"
      ]
     },
     "metadata": {},
     "output_type": "display_data"
    },
    {
     "name": "stdout",
     "output_type": "stream",
     "text": [
      "+---------+-------------+\n",
      "|    Genre|averageRating|\n",
      "+---------+-------------+\n",
      "|    Drama|          4.2|\n",
      "|    Drama|          4.5|\n",
      "|Biography|          3.6|\n",
      "|    Drama|          3.6|\n",
      "|  History|          3.6|\n",
      "|    Drama|          6.0|\n",
      "|    Drama|          5.0|\n",
      "|  History|          5.0|\n",
      "|Biography|          6.2|\n",
      "|    Drama|          6.2|\n",
      "+---------+-------------+\n",
      "only showing top 10 rows"
     ]
    }
   ],
   "source": []
  },
  {
   "cell_type": "code",
   "execution_count": 21,
   "id": "bda97fdc",
   "metadata": {
    "execution": {
     "iopub.execute_input": "2025-04-06T01:50:43.042242Z",
     "iopub.status.busy": "2025-04-06T01:50:43.041993Z",
     "iopub.status.idle": "2025-04-06T01:50:52.324915Z",
     "shell.execute_reply": "2025-04-06T01:50:52.324180Z",
     "shell.execute_reply.started": "2025-04-06T01:50:43.042202Z"
    },
    "tags": [],
    "vscode": {
     "languageId": "plaintext"
    }
   },
   "outputs": [
    {
     "data": {
      "application/vnd.jupyter.widget-view+json": {
       "model_id": "0e046fed49cd4920ba2c951b577064db",
       "version_major": 2,
       "version_minor": 0
      },
      "text/plain": [
       "VBox()"
      ]
     },
     "metadata": {},
     "output_type": "display_data"
    },
    {
     "data": {
      "application/vnd.jupyter.widget-view+json": {
       "model_id": "",
       "version_major": 2,
       "version_minor": 0
      },
      "text/plain": [
       "FloatProgress(value=0.0, bar_style='info', description='Progress:', layout=Layout(height='25px', width='50%'),…"
      ]
     },
     "metadata": {},
     "output_type": "display_data"
    },
    {
     "name": "stdout",
     "output_type": "stream",
     "text": [
      "+---------+-------------+\n",
      "|Genre    |averageRating|\n",
      "+---------+-------------+\n",
      "|Drama    |4.2          |\n",
      "|Drama    |4.5          |\n",
      "|Biography|3.6          |\n",
      "|Drama    |3.6          |\n",
      "|History  |3.6          |\n",
      "|Drama    |6.0          |\n",
      "|Drama    |5.0          |\n",
      "|History  |5.0          |\n",
      "|Biography|6.2          |\n",
      "|Drama    |6.2          |\n",
      "+---------+-------------+\n",
      "only showing top 10 rows"
     ]
    }
   ],
   "source": [
    "from pyspark.sql.functions import col, split, explode, avg\n",
    "\n",
    "#  Join titles and ratings\n",
    "titles_with_ratings = titles.join(ratings, on=\"tconst\", how=\"inner\")\n",
    "\n",
    "#  Filter for movies only\n",
    "movies_only = titles_with_ratings.filter(col(\"titleType\") == \"movie\")\n",
    "\n",
    "#  Explode genres\n",
    "exploded_genres = movies_only.select(\n",
    "    explode(split(col(\"genres\"), \",\")).alias(\"Genre\"),\n",
    "    col(\"averageRating\")\n",
    ")\n",
    "\n",
    "#  Remove rows with Genre == '\\N'\n",
    "cleaned_genres = exploded_genres.filter(col(\"Genre\") != \"\\\\N\")\n",
    "\n",
    "# Show result\n",
    "cleaned_genres.show(10, truncate=False)\n"
   ]
  },
  {
   "cell_type": "markdown",
   "id": "98094ca8",
   "metadata": {},
   "source": [
    "Now, let's aggregate along the averageRating column to get a resultant dataframe that displays average rating per genre.\n",
    "\n",
    "You can goolge to find out how to round values in PySpark."
   ]
  },
  {
   "cell_type": "code",
   "execution_count": 22,
   "id": "317c522c",
   "metadata": {
    "execution": {
     "iopub.execute_input": "2025-03-10T23:25:57.742879Z",
     "iopub.status.busy": "2025-03-10T23:25:57.742701Z",
     "iopub.status.idle": "2025-03-10T23:26:07.048539Z",
     "shell.execute_reply": "2025-03-10T23:26:07.047822Z",
     "shell.execute_reply.started": "2025-03-10T23:25:57.742855Z"
    },
    "tags": []
   },
   "outputs": [
    {
     "data": {
      "application/vnd.jupyter.widget-view+json": {
       "model_id": "9a21e7b4365e4b04bf1d846794215116",
       "version_major": 2,
       "version_minor": 0
      },
      "text/plain": [
       "VBox()"
      ]
     },
     "metadata": {},
     "output_type": "display_data"
    },
    {
     "data": {
      "application/vnd.jupyter.widget-view+json": {
       "model_id": "",
       "version_major": 2,
       "version_minor": 0
      },
      "text/plain": [
       "FloatProgress(value=0.0, bar_style='info', description='Progress:', layout=Layout(height='25px', width='50%'),…"
      ]
     },
     "metadata": {},
     "output_type": "display_data"
    },
    {
     "name": "stdout",
     "output_type": "stream",
     "text": [
      "+-----------+------+\n",
      "|Genre      |Rating|\n",
      "+-----------+------+\n",
      "|Mystery    |5.847 |\n",
      "|Musical    |6.187 |\n",
      "|Action     |5.732 |\n",
      "|Sport      |6.623 |\n",
      "|Talk-Show  |6.858 |\n",
      "|Romance    |6.102 |\n",
      "|Thriller   |5.613 |\n",
      "|Reality-TV |6.701 |\n",
      "|Family     |6.205 |\n",
      "|Fantasy    |5.898 |\n",
      "|History    |6.798 |\n",
      "|Animation  |6.367 |\n",
      "|Film-Noir  |6.463 |\n",
      "|Sci-Fi     |5.353 |\n",
      "|News       |7.203 |\n",
      "|Drama      |6.248 |\n",
      "|Documentary|7.216 |\n",
      "|Western    |5.84  |\n",
      "|Comedy     |5.906 |\n",
      "|Crime      |5.985 |\n",
      "+-----------+------+\n",
      "only showing top 20 rows"
     ]
    }
   ],
   "source": []
  },
  {
   "cell_type": "code",
   "execution_count": 22,
   "id": "a2b589e4",
   "metadata": {
    "execution": {
     "iopub.execute_input": "2025-04-06T01:50:52.326307Z",
     "iopub.status.busy": "2025-04-06T01:50:52.326146Z",
     "iopub.status.idle": "2025-04-06T01:51:03.616355Z",
     "shell.execute_reply": "2025-04-06T01:51:03.615382Z",
     "shell.execute_reply.started": "2025-04-06T01:50:52.326285Z"
    },
    "tags": [],
    "vscode": {
     "languageId": "plaintext"
    }
   },
   "outputs": [
    {
     "data": {
      "application/vnd.jupyter.widget-view+json": {
       "model_id": "8642476ea4c14d3d9cd9c84cb91cdd49",
       "version_major": 2,
       "version_minor": 0
      },
      "text/plain": [
       "VBox()"
      ]
     },
     "metadata": {},
     "output_type": "display_data"
    },
    {
     "data": {
      "application/vnd.jupyter.widget-view+json": {
       "model_id": "",
       "version_major": 2,
       "version_minor": 0
      },
      "text/plain": [
       "FloatProgress(value=0.0, bar_style='info', description='Progress:', layout=Layout(height='25px', width='50%'),…"
      ]
     },
     "metadata": {},
     "output_type": "display_data"
    },
    {
     "name": "stdout",
     "output_type": "stream",
     "text": [
      "+-----------+------+\n",
      "|Genre      |Rating|\n",
      "+-----------+------+\n",
      "|Mystery    |5.847 |\n",
      "|Musical    |6.187 |\n",
      "|Action     |5.732 |\n",
      "|Sport      |6.623 |\n",
      "|Talk-Show  |6.858 |\n",
      "|Romance    |6.102 |\n",
      "|Thriller   |5.613 |\n",
      "|Reality-TV |6.701 |\n",
      "|Family     |6.205 |\n",
      "|Fantasy    |5.898 |\n",
      "|History    |6.798 |\n",
      "|Animation  |6.367 |\n",
      "|Film-Noir  |6.463 |\n",
      "|Sci-Fi     |5.353 |\n",
      "|News       |7.203 |\n",
      "|Drama      |6.248 |\n",
      "|Documentary|7.216 |\n",
      "|Western    |5.84  |\n",
      "|Comedy     |5.906 |\n",
      "|Crime      |5.985 |\n",
      "+-----------+------+\n",
      "only showing top 20 rows"
     ]
    }
   ],
   "source": [
    "from pyspark.sql.functions import col, split, explode, avg, round\n",
    "\n",
    "#  Join and filter\n",
    "titles_with_ratings = titles.join(ratings, on=\"tconst\", how=\"inner\")\n",
    "movies_only = titles_with_ratings.filter(col(\"titleType\") == \"movie\")\n",
    "\n",
    "# Explode genres and clean\n",
    "exploded_genres = movies_only.select(\n",
    "    explode(split(col(\"genres\"), \",\")).alias(\"Genre\"),\n",
    "    col(\"averageRating\")\n",
    ").filter(col(\"Genre\") != \"\\\\N\")\n",
    "\n",
    "#  Aggregate and round the ratings\n",
    "average_ratings = exploded_genres.groupBy(\"Genre\").agg(\n",
    "    round(avg(\"averageRating\"), 3).alias(\"Rating\")\n",
    ")\n",
    "\n",
    "# Show result\n",
    "average_ratings.show(truncate=False)\n"
   ]
  },
  {
   "cell_type": "markdown",
   "id": "b1fd4e61",
   "metadata": {},
   "source": [
    "### Horizontal Bar Chart of Top Genres\n",
    "\n",
    "With this data available, let us now build a barchart of all genres \n",
    "\n",
    "**HINT**: don't forget about the matplotlib magic!\n",
    "\n",
    "```\n",
    "%matplot plt\n",
    "```"
   ]
  },
  {
   "cell_type": "code",
   "execution_count": 23,
   "id": "2865ccdb",
   "metadata": {
    "execution": {
     "iopub.execute_input": "2025-03-10T23:26:07.049700Z",
     "iopub.status.busy": "2025-03-10T23:26:07.049524Z",
     "iopub.status.idle": "2025-03-10T23:26:16.352609Z",
     "shell.execute_reply": "2025-03-10T23:26:16.351849Z",
     "shell.execute_reply.started": "2025-03-10T23:26:07.049677Z"
    },
    "tags": []
   },
   "outputs": [
    {
     "data": {
      "application/vnd.jupyter.widget-view+json": {
       "model_id": "83b69729ca4a4b239663c563a78be4d3",
       "version_major": 2,
       "version_minor": 0
      },
      "text/plain": [
       "VBox()"
      ]
     },
     "metadata": {},
     "output_type": "display_data"
    },
    {
     "data": {
      "application/vnd.jupyter.widget-view+json": {
       "model_id": "",
       "version_major": 2,
       "version_minor": 0
      },
      "text/plain": [
       "FloatProgress(value=0.0, bar_style='info', description='Progress:', layout=Layout(height='25px', width='50%'),…"
      ]
     },
     "metadata": {},
     "output_type": "display_data"
    },
    {
     "name": "stdout",
     "output_type": "stream",
     "text": [
      "+-----------+------+\n",
      "|Genre      |Rating|\n",
      "+-----------+------+\n",
      "|Documentary|7.216 |\n",
      "|News       |7.203 |\n",
      "|Biography  |6.951 |\n",
      "|Game-Show  |6.88  |\n",
      "|Talk-Show  |6.858 |\n",
      "|History    |6.798 |\n",
      "|Music      |6.755 |\n",
      "|Reality-TV |6.701 |\n",
      "|Sport      |6.623 |\n",
      "|Film-Noir  |6.463 |\n",
      "|War        |6.403 |\n",
      "|Animation  |6.367 |\n",
      "|Drama      |6.248 |\n",
      "|Family     |6.205 |\n",
      "|Musical    |6.187 |\n",
      "|Romance    |6.102 |\n",
      "|Crime      |5.985 |\n",
      "|Comedy     |5.906 |\n",
      "|Fantasy    |5.898 |\n",
      "|Adventure  |5.866 |\n",
      "|Mystery    |5.847 |\n",
      "|Western    |5.84  |\n",
      "|Action     |5.732 |\n",
      "|Thriller   |5.613 |\n",
      "|Adult      |5.554 |\n",
      "|Sci-Fi     |5.353 |\n",
      "|Horror     |5.002 |\n",
      "|Short      |5.0   |\n",
      "+-----------+------+"
     ]
    }
   ],
   "source": []
  },
  {
   "cell_type": "code",
   "execution_count": 23,
   "id": "9000343f",
   "metadata": {
    "execution": {
     "iopub.execute_input": "2025-04-06T01:51:03.617877Z",
     "iopub.status.busy": "2025-04-06T01:51:03.617627Z",
     "iopub.status.idle": "2025-04-06T01:51:12.915889Z",
     "shell.execute_reply": "2025-04-06T01:51:12.915171Z",
     "shell.execute_reply.started": "2025-04-06T01:51:03.617838Z"
    },
    "tags": [],
    "vscode": {
     "languageId": "plaintext"
    }
   },
   "outputs": [
    {
     "data": {
      "application/vnd.jupyter.widget-view+json": {
       "model_id": "a22b482a83164c79b7ee845d51101dfd",
       "version_major": 2,
       "version_minor": 0
      },
      "text/plain": [
       "VBox()"
      ]
     },
     "metadata": {},
     "output_type": "display_data"
    },
    {
     "data": {
      "application/vnd.jupyter.widget-view+json": {
       "model_id": "",
       "version_major": 2,
       "version_minor": 0
      },
      "text/plain": [
       "FloatProgress(value=0.0, bar_style='info', description='Progress:', layout=Layout(height='25px', width='50%'),…"
      ]
     },
     "metadata": {},
     "output_type": "display_data"
    },
    {
     "name": "stdout",
     "output_type": "stream",
     "text": [
      "+-----------+------+\n",
      "|Genre      |Rating|\n",
      "+-----------+------+\n",
      "|Documentary|7.216 |\n",
      "|News       |7.203 |\n",
      "|Biography  |6.951 |\n",
      "|Game-Show  |6.88  |\n",
      "|Talk-Show  |6.858 |\n",
      "|History    |6.798 |\n",
      "|Music      |6.755 |\n",
      "|Reality-TV |6.701 |\n",
      "|Sport      |6.623 |\n",
      "|Film-Noir  |6.463 |\n",
      "|War        |6.403 |\n",
      "|Animation  |6.367 |\n",
      "|Drama      |6.248 |\n",
      "|Family     |6.205 |\n",
      "|Musical    |6.187 |\n",
      "|Romance    |6.102 |\n",
      "|Crime      |5.985 |\n",
      "|Comedy     |5.906 |\n",
      "|Fantasy    |5.898 |\n",
      "|Adventure  |5.866 |\n",
      "|Mystery    |5.847 |\n",
      "|Western    |5.84  |\n",
      "|Action     |5.732 |\n",
      "|Thriller   |5.613 |\n",
      "|Adult      |5.554 |\n",
      "|Sci-Fi     |5.353 |\n",
      "|Horror     |5.002 |\n",
      "|Short      |5.0   |\n",
      "+-----------+------+"
     ]
    }
   ],
   "source": [
    "from pyspark.sql.functions import col, split, explode, avg, round\n",
    "#  Filter out '\\N', aggregate ratings, and sort in descending order\n",
    "average_ratings = exploded_genres.filter(col(\"Genre\") != \"\\\\N\") \\\n",
    "    .groupBy(\"Genre\") \\\n",
    "    .agg(round(avg(\"averageRating\"), 3).alias(\"Rating\")) \\\n",
    "    .orderBy(col(\"Rating\").desc())\n",
    "\n",
    "# Step 4: Show all genres \n",
    "average_ratings.show(50, truncate=False)"
   ]
  },
  {
   "cell_type": "markdown",
   "id": "42322761-4cc2-47ee-a8a7-a0093a0e955a",
   "metadata": {},
   "source": [
    "You do not have to match the color and the figure size but all other aspects of the graph should be matched.\n",
    "\n",
    "You can google to how to add design features to the graph."
   ]
  },
  {
   "cell_type": "code",
   "execution_count": 24,
   "id": "4a868d3d",
   "metadata": {
    "execution": {
     "iopub.execute_input": "2025-03-10T23:26:16.353785Z",
     "iopub.status.busy": "2025-03-10T23:26:16.353618Z",
     "iopub.status.idle": "2025-03-10T23:26:25.666340Z",
     "shell.execute_reply": "2025-03-10T23:26:25.665495Z",
     "shell.execute_reply.started": "2025-03-10T23:26:16.353763Z"
    },
    "tags": []
   },
   "outputs": [
    {
     "data": {
      "application/vnd.jupyter.widget-view+json": {
       "model_id": "ec5091415d424bb79761d107dff29881",
       "version_major": 2,
       "version_minor": 0
      },
      "text/plain": [
       "VBox()"
      ]
     },
     "metadata": {},
     "output_type": "display_data"
    },
    {
     "data": {
      "application/vnd.jupyter.widget-view+json": {
       "model_id": "",
       "version_major": 2,
       "version_minor": 0
      },
      "text/plain": [
       "FloatProgress(value=0.0, bar_style='info', description='Progress:', layout=Layout(height='25px', width='50%'),…"
      ]
     },
     "metadata": {},
     "output_type": "display_data"
    },
    {
     "data": {
      "image/png": "[encoded data removed]",
      "text/plain": [
       "<IPython.core.display.Image object>"
      ]
     },
     "metadata": {},
     "output_type": "display_data"
    }
   ],
   "source": []
  },
  {
   "cell_type": "code",
   "execution_count": 24,
   "id": "6b918f69",
   "metadata": {
    "execution": {
     "iopub.execute_input": "2025-04-06T01:51:12.917418Z",
     "iopub.status.busy": "2025-04-06T01:51:12.917152Z",
     "iopub.status.idle": "2025-04-06T01:51:22.199405Z",
     "shell.execute_reply": "2025-04-06T01:51:22.198786Z",
     "shell.execute_reply.started": "2025-04-06T01:51:12.917380Z"
    },
    "tags": [],
    "vscode": {
     "languageId": "plaintext"
    }
   },
   "outputs": [
    {
     "data": {
      "application/vnd.jupyter.widget-view+json": {
       "model_id": "780ed0ba6dba410f9f05856a6349ca35",
       "version_major": 2,
       "version_minor": 0
      },
      "text/plain": [
       "VBox()"
      ]
     },
     "metadata": {},
     "output_type": "display_data"
    },
    {
     "data": {
      "application/vnd.jupyter.widget-view+json": {
       "model_id": "",
       "version_major": 2,
       "version_minor": 0
      },
      "text/plain": [
       "FloatProgress(value=0.0, bar_style='info', description='Progress:', layout=Layout(height='25px', width='50%'),…"
      ]
     },
     "metadata": {},
     "output_type": "display_data"
    },
    {
     "name": "stderr",
     "output_type": "stream",
     "text": [
      "An error was encountered:\n",
      "name 'np' is not defined\n",
      "Traceback (most recent call last):\n",
      "NameError: name 'np' is not defined\n",
      "\n"
     ]
    }
   ],
   "source": [
    "import matplotlib.pyplot as plt\n",
    "top_genres = average_ratings.toPandas()\n",
    "top_genres = top_genres. sort_values (by='Rating', ascending=True)\n",
    "# Manually set y-positions with spacing\n",
    "spacing = 1.3  # Adjust this to increase space between bars\n",
    "y_pos = np.arange(len(top_genres)) * spacing\n",
    "plt.figure(figsize=(10, 6))\n",
    "plt.barh(top_genres ['Genre'], top_genres ['Rating'], color='purple') \n",
    "plt.xlabel('Rating') \n",
    "plt.ylabel('Genre')\n",
    "plt.title('Top Genres in the Movie Category') \n",
    "plt.xticks (rotation=45)\n",
    "plt.xlim(4.5, max(top_genres ['Rating']) + 0.5)\n",
    "\n",
    "\n",
    "%matplot plt"
   ]
  },
  {
   "cell_type": "code",
   "execution_count": 25,
   "id": "d879599c-ef42-46d3-9d33-7856fddb23ca",
   "metadata": {
    "execution": {
     "iopub.execute_input": "2025-03-25T01:10:42.100304Z",
     "iopub.status.busy": "2025-03-25T01:10:42.100045Z",
     "iopub.status.idle": "2025-03-25T01:11:03.678483Z",
     "shell.execute_reply": "2025-03-25T01:11:03.677635Z",
     "shell.execute_reply.started": "2025-03-25T01:10:42.100273Z"
    }
   },
   "outputs": [
    {
     "data": {
      "application/vnd.jupyter.widget-view+json": {
       "model_id": "77078e85a20c4abb81530a38407a283a",
       "version_major": 2,
       "version_minor": 0
      },
      "text/plain": [
       "VBox()"
      ]
     },
     "metadata": {},
     "output_type": "display_data"
    },
    {
     "data": {
      "application/vnd.jupyter.widget-view+json": {
       "model_id": "",
       "version_major": 2,
       "version_minor": 0
      },
      "text/plain": [
       "FloatProgress(value=0.0, bar_style='info', description='Progress:', layout=Layout(height='25px', width='50%'),…"
      ]
     },
     "metadata": {},
     "output_type": "display_data"
    }
   ],
   "source": []
  },
  {
   "cell_type": "markdown",
   "id": "3671c612",
   "metadata": {},
   "source": [
    "## PART 3 - Analyzing Job Categories"
   ]
  },
  {
   "cell_type": "markdown",
   "id": "2912a0ba",
   "metadata": {},
   "source": [
    "## Total Unique Job Categories"
   ]
  },
  {
   "cell_type": "markdown",
   "id": "099531c0",
   "metadata": {},
   "source": [
    "What is the total number of unique job categories?"
   ]
  },
  {
   "cell_type": "code",
   "execution_count": 25,
   "id": "bf5ea336",
   "metadata": {
    "execution": {
     "iopub.execute_input": "2025-03-10T23:26:25.667775Z",
     "iopub.status.busy": "2025-03-10T23:26:25.667531Z",
     "iopub.status.idle": "2025-03-10T23:26:25.925000Z",
     "shell.execute_reply": "2025-03-10T23:26:25.924083Z",
     "shell.execute_reply.started": "2025-03-10T23:26:25.667739Z"
    },
    "tags": []
   },
   "outputs": [
    {
     "data": {
      "application/vnd.jupyter.widget-view+json": {
       "model_id": "98bd256c1512476d8e9950c1320afab6",
       "version_major": 2,
       "version_minor": 0
      },
      "text/plain": [
       "VBox()"
      ]
     },
     "metadata": {},
     "output_type": "display_data"
    },
    {
     "data": {
      "application/vnd.jupyter.widget-view+json": {
       "model_id": "",
       "version_major": 2,
       "version_minor": 0
      },
      "text/plain": [
       "FloatProgress(value=0.0, bar_style='info', description='Progress:', layout=Layout(height='25px', width='50%'),…"
      ]
     },
     "metadata": {},
     "output_type": "display_data"
    },
    {
     "name": "stdout",
     "output_type": "stream",
     "text": [
      "+---------+---------------+\n",
      "|tconst   |category       |\n",
      "+---------+---------------+\n",
      "|tt0000001|self           |\n",
      "|tt0000001|director       |\n",
      "|tt0000001|cinematographer|\n",
      "|tt0000002|director       |\n",
      "|tt0000002|composer       |\n",
      "|tt0000003|director       |\n",
      "|tt0000003|producer       |\n",
      "|tt0000003|composer       |\n",
      "|tt0000003|editor         |\n",
      "|tt0000004|director       |\n",
      "|tt0000004|composer       |\n",
      "|tt0000005|actor          |\n",
      "|tt0000005|actor          |\n",
      "|tt0000005|director       |\n",
      "|tt0000005|producer       |\n",
      "|tt0000006|director       |\n",
      "|tt0000007|actor          |\n",
      "|tt0000007|actor          |\n",
      "|tt0000007|director       |\n",
      "|tt0000007|director       |\n",
      "|tt0000007|producer       |\n",
      "|tt0000008|actor          |\n",
      "|tt0000008|director       |\n",
      "|tt0000008|cinematographer|\n",
      "|tt0000009|actress        |\n",
      "|tt0000009|actor          |\n",
      "|tt0000009|actor          |\n",
      "|tt0000009|director       |\n",
      "|tt0000010|director       |\n",
      "|tt0000011|actor          |\n",
      "+---------+---------------+\n",
      "only showing top 30 rows"
     ]
    }
   ],
   "source": []
  },
  {
   "cell_type": "code",
   "execution_count": 26,
   "id": "44203333",
   "metadata": {
    "execution": {
     "iopub.execute_input": "2025-03-10T23:26:25.926225Z",
     "iopub.status.busy": "2025-03-10T23:26:25.926008Z",
     "iopub.status.idle": "2025-03-10T23:26:53.425892Z",
     "shell.execute_reply": "2025-03-10T23:26:53.425124Z",
     "shell.execute_reply.started": "2025-03-10T23:26:25.926197Z"
    },
    "tags": []
   },
   "outputs": [
    {
     "data": {
      "application/vnd.jupyter.widget-view+json": {
       "model_id": "9f3bd83e5da447249ef2df7674be62fd",
       "version_major": 2,
       "version_minor": 0
      },
      "text/plain": [
       "VBox()"
      ]
     },
     "metadata": {},
     "output_type": "display_data"
    },
    {
     "data": {
      "application/vnd.jupyter.widget-view+json": {
       "model_id": "",
       "version_major": 2,
       "version_minor": 0
      },
      "text/plain": [
       "FloatProgress(value=0.0, bar_style='info', description='Progress:', layout=Layout(height='25px', width='50%'),…"
      ]
     },
     "metadata": {},
     "output_type": "display_data"
    },
    {
     "name": "stdout",
     "output_type": "stream",
     "text": [
      "12"
     ]
    }
   ],
   "source": []
  },
  {
   "cell_type": "code",
   "execution_count": 25,
   "id": "422123b5-0c10-4105-bfeb-f7543991b5b0",
   "metadata": {
    "execution": {
     "iopub.execute_input": "2025-04-06T01:51:22.200430Z",
     "iopub.status.busy": "2025-04-06T01:51:22.200257Z",
     "iopub.status.idle": "2025-04-06T01:51:22.445272Z",
     "shell.execute_reply": "2025-04-06T01:51:22.444248Z",
     "shell.execute_reply.started": "2025-04-06T01:51:22.200406Z"
    },
    "tags": []
   },
   "outputs": [
    {
     "data": {
      "application/vnd.jupyter.widget-view+json": {
       "model_id": "abc67df1483e4e3c9cfbbd27f2943c3b",
       "version_major": 2,
       "version_minor": 0
      },
      "text/plain": [
       "VBox()"
      ]
     },
     "metadata": {},
     "output_type": "display_data"
    },
    {
     "data": {
      "application/vnd.jupyter.widget-view+json": {
       "model_id": "",
       "version_major": 2,
       "version_minor": 0
      },
      "text/plain": [
       "FloatProgress(value=0.0, bar_style='info', description='Progress:', layout=Layout(height='25px', width='50%'),…"
      ]
     },
     "metadata": {},
     "output_type": "display_data"
    },
    {
     "name": "stdout",
     "output_type": "stream",
     "text": [
      "+---------+---------------+\n",
      "|tconst   |category       |\n",
      "+---------+---------------+\n",
      "|tt0000001|self           |\n",
      "|tt0000001|director       |\n",
      "|tt0000001|cinematographer|\n",
      "|tt0000002|director       |\n",
      "|tt0000002|composer       |\n",
      "|tt0000003|director       |\n",
      "|tt0000003|producer       |\n",
      "|tt0000003|composer       |\n",
      "|tt0000003|editor         |\n",
      "|tt0000004|director       |\n",
      "|tt0000004|composer       |\n",
      "|tt0000005|actor          |\n",
      "|tt0000005|actor          |\n",
      "|tt0000005|director       |\n",
      "|tt0000005|producer       |\n",
      "|tt0000006|director       |\n",
      "|tt0000007|actor          |\n",
      "|tt0000007|actor          |\n",
      "|tt0000007|director       |\n",
      "|tt0000007|director       |\n",
      "|tt0000007|producer       |\n",
      "|tt0000008|actor          |\n",
      "|tt0000008|director       |\n",
      "|tt0000008|cinematographer|\n",
      "|tt0000009|actress        |\n",
      "|tt0000009|actor          |\n",
      "|tt0000009|actor          |\n",
      "|tt0000009|director       |\n",
      "|tt0000010|director       |\n",
      "|tt0000011|actor          |\n",
      "+---------+---------------+\n",
      "only showing top 30 rows"
     ]
    }
   ],
   "source": [
    "principles.select(\"tconst\",\"category\").show(30, truncate=False)\n"
   ]
  },
  {
   "cell_type": "code",
   "execution_count": 43,
   "id": "07da15d5-dc9a-432d-b864-df8daf52d7ef",
   "metadata": {
    "execution": {
     "iopub.execute_input": "2025-03-25T01:41:38.789792Z",
     "iopub.status.busy": "2025-03-25T01:41:38.789549Z",
     "iopub.status.idle": "2025-03-25T01:42:08.127828Z",
     "shell.execute_reply": "2025-03-25T01:42:08.126946Z",
     "shell.execute_reply.started": "2025-03-25T01:41:38.789765Z"
    }
   },
   "outputs": [
    {
     "data": {
      "application/vnd.jupyter.widget-view+json": {
       "model_id": "162555a1e8e849ff91c4a3d94918fa01",
       "version_major": 2,
       "version_minor": 0
      },
      "text/plain": [
       "VBox()"
      ]
     },
     "metadata": {},
     "output_type": "display_data"
    },
    {
     "data": {
      "application/vnd.jupyter.widget-view+json": {
       "model_id": "",
       "version_major": 2,
       "version_minor": 0
      },
      "text/plain": [
       "FloatProgress(value=0.0, bar_style='info', description='Progress:', layout=Layout(height='25px', width='50%'),…"
      ]
     },
     "metadata": {},
     "output_type": "display_data"
    },
    {
     "name": "stdout",
     "output_type": "stream",
     "text": [
      "12"
     ]
    }
   ],
   "source": [
    "principles.select(\"category\").distinct().count()\n"
   ]
  },
  {
   "cell_type": "markdown",
   "id": "c3b2f7b4",
   "metadata": {},
   "source": [
    "What are the unique job categories available?"
   ]
  },
  {
   "cell_type": "code",
   "execution_count": 27,
   "id": "e03438b0",
   "metadata": {
    "execution": {
     "iopub.execute_input": "2025-03-10T23:26:53.427190Z",
     "iopub.status.busy": "2025-03-10T23:26:53.427020Z",
     "iopub.status.idle": "2025-03-10T23:27:20.796537Z",
     "shell.execute_reply": "2025-03-10T23:27:20.784031Z",
     "shell.execute_reply.started": "2025-03-10T23:26:53.427168Z"
    },
    "tags": []
   },
   "outputs": [
    {
     "data": {
      "application/vnd.jupyter.widget-view+json": {
       "model_id": "74744021999143f4a8ffc24d60c383ff",
       "version_major": 2,
       "version_minor": 0
      },
      "text/plain": [
       "VBox()"
      ]
     },
     "metadata": {},
     "output_type": "display_data"
    },
    {
     "data": {
      "application/vnd.jupyter.widget-view+json": {
       "model_id": "",
       "version_major": 2,
       "version_minor": 0
      },
      "text/plain": [
       "FloatProgress(value=0.0, bar_style='info', description='Progress:', layout=Layout(height='25px', width='50%'),…"
      ]
     },
     "metadata": {},
     "output_type": "display_data"
    },
    {
     "name": "stdout",
     "output_type": "stream",
     "text": [
      "+-------------------+\n",
      "|category           |\n",
      "+-------------------+\n",
      "|actress            |\n",
      "|producer           |\n",
      "|production_designer|\n",
      "|writer             |\n",
      "|actor              |\n",
      "|cinematographer    |\n",
      "|archive_sound      |\n",
      "|archive_footage    |\n",
      "|self               |\n",
      "|editor             |\n",
      "|composer           |\n",
      "|director           |\n",
      "+-------------------+"
     ]
    }
   ],
   "source": []
  },
  {
   "cell_type": "code",
   "execution_count": 44,
   "id": "f454c606",
   "metadata": {
    "execution": {
     "iopub.execute_input": "2025-03-25T01:44:05.342985Z",
     "iopub.status.busy": "2025-03-25T01:44:05.342716Z",
     "iopub.status.idle": "2025-03-25T01:44:42.697325Z",
     "shell.execute_reply": "2025-03-25T01:44:42.696629Z",
     "shell.execute_reply.started": "2025-03-25T01:44:05.342955Z"
    },
    "vscode": {
     "languageId": "plaintext"
    }
   },
   "outputs": [
    {
     "data": {
      "application/vnd.jupyter.widget-view+json": {
       "model_id": "355c626d31954123a6719e82724d8350",
       "version_major": 2,
       "version_minor": 0
      },
      "text/plain": [
       "VBox()"
      ]
     },
     "metadata": {},
     "output_type": "display_data"
    },
    {
     "data": {
      "application/vnd.jupyter.widget-view+json": {
       "model_id": "",
       "version_major": 2,
       "version_minor": 0
      },
      "text/plain": [
       "FloatProgress(value=0.0, bar_style='info', description='Progress:', layout=Layout(height='25px', width='50%'),…"
      ]
     },
     "metadata": {},
     "output_type": "display_data"
    },
    {
     "name": "stdout",
     "output_type": "stream",
     "text": [
      "+-------------------+\n",
      "|category           |\n",
      "+-------------------+\n",
      "|actress            |\n",
      "|producer           |\n",
      "|production_designer|\n",
      "|writer             |\n",
      "|actor              |\n",
      "|cinematographer    |\n",
      "|archive_sound      |\n",
      "|archive_footage    |\n",
      "|self               |\n",
      "|editor             |\n",
      "|composer           |\n",
      "|director           |\n",
      "+-------------------+"
     ]
    }
   ],
   "source": [
    "principles.select(\"category\").distinct().show(20, truncate=False)\n"
   ]
  },
  {
   "cell_type": "markdown",
   "id": "47312540",
   "metadata": {},
   "source": [
    "## Top Job Categories"
   ]
  },
  {
   "cell_type": "markdown",
   "id": "61df21f0",
   "metadata": {},
   "source": [
    "Now let's find the top job categories in this dataset by rolling up categories."
   ]
  },
  {
   "cell_type": "markdown",
   "id": "2d56869a",
   "metadata": {},
   "source": [
    "### Counts of Titles / Job Category"
   ]
  },
  {
   "cell_type": "markdown",
   "id": "ae87af2f",
   "metadata": {},
   "source": [
    "The expected output should be:\n",
    "\n",
    "| category | count |\n",
    "|-------------|------------|\n",
    "| a     | 15         |\n",
    "| b     | 2          |\n",
    "| c     | 45          |\n",
    "\n",
    "Or something to that effect."
   ]
  },
  {
   "cell_type": "code",
   "execution_count": 28,
   "id": "f3d65964",
   "metadata": {
    "execution": {
     "iopub.execute_input": "2025-03-10T23:27:20.808777Z",
     "iopub.status.busy": "2025-03-10T23:27:20.808471Z",
     "iopub.status.idle": "2025-03-10T23:27:48.283146Z",
     "shell.execute_reply": "2025-03-10T23:27:48.282471Z",
     "shell.execute_reply.started": "2025-03-10T23:27:20.808739Z"
    },
    "tags": []
   },
   "outputs": [
    {
     "data": {
      "application/vnd.jupyter.widget-view+json": {
       "model_id": "61e64a47b79f4903a35d180e3c52b44b",
       "version_major": 2,
       "version_minor": 0
      },
      "text/plain": [
       "VBox()"
      ]
     },
     "metadata": {},
     "output_type": "display_data"
    },
    {
     "data": {
      "application/vnd.jupyter.widget-view+json": {
       "model_id": "",
       "version_major": 2,
       "version_minor": 0
      },
      "text/plain": [
       "FloatProgress(value=0.0, bar_style='info', description='Progress:', layout=Layout(height='25px', width='50%'),…"
      ]
     },
     "metadata": {},
     "output_type": "display_data"
    },
    {
     "name": "stdout",
     "output_type": "stream",
     "text": [
      "+-------------------+--------+\n",
      "|category           |count   |\n",
      "+-------------------+--------+\n",
      "|actress            |10492210|\n",
      "|producer           |3944711 |\n",
      "|production_designer|383761  |\n",
      "|writer             |8495903 |\n",
      "|actor              |13443688|\n",
      "|cinematographer    |2068164 |\n",
      "|archive_sound      |4794    |\n",
      "|archive_footage    |404581  |\n",
      "|self               |10562296|\n",
      "|editor             |2012800 |\n",
      "|composer           |2014049 |\n",
      "|director           |7006843 |\n",
      "+-------------------+--------+"
     ]
    }
   ],
   "source": []
  },
  {
   "cell_type": "code",
   "execution_count": 26,
   "id": "c3a3d91c",
   "metadata": {
    "execution": {
     "iopub.execute_input": "2025-04-06T01:51:22.448402Z",
     "iopub.status.busy": "2025-04-06T01:51:22.447935Z",
     "iopub.status.idle": "2025-04-06T01:51:51.909302Z",
     "shell.execute_reply": "2025-04-06T01:51:51.908667Z",
     "shell.execute_reply.started": "2025-04-06T01:51:22.448359Z"
    },
    "tags": [],
    "vscode": {
     "languageId": "plaintext"
    }
   },
   "outputs": [
    {
     "data": {
      "application/vnd.jupyter.widget-view+json": {
       "model_id": "b616fb800f99448a80291d7ec173b851",
       "version_major": 2,
       "version_minor": 0
      },
      "text/plain": [
       "VBox()"
      ]
     },
     "metadata": {},
     "output_type": "display_data"
    },
    {
     "data": {
      "application/vnd.jupyter.widget-view+json": {
       "model_id": "",
       "version_major": 2,
       "version_minor": 0
      },
      "text/plain": [
       "FloatProgress(value=0.0, bar_style='info', description='Progress:', layout=Layout(height='25px', width='50%'),…"
      ]
     },
     "metadata": {},
     "output_type": "display_data"
    },
    {
     "name": "stdout",
     "output_type": "stream",
     "text": [
      "+-------------------+--------+\n",
      "|category           |count   |\n",
      "+-------------------+--------+\n",
      "|actress            |10492210|\n",
      "|producer           |3944711 |\n",
      "|production_designer|383761  |\n",
      "|writer             |8495903 |\n",
      "|actor              |13443688|\n",
      "|cinematographer    |2068164 |\n",
      "|archive_sound      |4794    |\n",
      "|archive_footage    |404581  |\n",
      "|self               |10562296|\n",
      "|editor             |2012800 |\n",
      "|composer           |2014049 |\n",
      "|director           |7006843 |\n",
      "+-------------------+--------+"
     ]
    }
   ],
   "source": [
    "principles.groupBy(\"category\").count().show(20, truncate=False)\n"
   ]
  },
  {
   "cell_type": "markdown",
   "id": "f8671889",
   "metadata": {},
   "source": [
    "### Bar Chart of Top Job Categories\n",
    "\n",
    "With this data available, let us now build a barchart of the top 5 categories. \n",
    "\n",
    "**HINT**: don't forget about the matplotlib magic!\n",
    "\n",
    "```\n",
    "%matplot plt\n",
    "```"
   ]
  },
  {
   "cell_type": "code",
   "execution_count": 29,
   "id": "3c73edf1",
   "metadata": {
    "execution": {
     "iopub.execute_input": "2025-03-10T23:27:48.285106Z",
     "iopub.status.busy": "2025-03-10T23:27:48.284805Z",
     "iopub.status.idle": "2025-03-10T23:28:17.642139Z",
     "shell.execute_reply": "2025-03-10T23:28:17.641281Z",
     "shell.execute_reply.started": "2025-03-10T23:27:48.285067Z"
    },
    "tags": []
   },
   "outputs": [
    {
     "data": {
      "application/vnd.jupyter.widget-view+json": {
       "model_id": "7195a8666b124cd4beaf2e0803cc3261",
       "version_major": 2,
       "version_minor": 0
      },
      "text/plain": [
       "VBox()"
      ]
     },
     "metadata": {},
     "output_type": "display_data"
    },
    {
     "data": {
      "application/vnd.jupyter.widget-view+json": {
       "model_id": "",
       "version_major": 2,
       "version_minor": 0
      },
      "text/plain": [
       "FloatProgress(value=0.0, bar_style='info', description='Progress:', layout=Layout(height='25px', width='50%'),…"
      ]
     },
     "metadata": {},
     "output_type": "display_data"
    },
    {
     "name": "stdout",
     "output_type": "stream",
     "text": [
      "+-------------------+--------+\n",
      "|category           |count   |\n",
      "+-------------------+--------+\n",
      "|actor              |13443688|\n",
      "|self               |10562296|\n",
      "|actress            |10492210|\n",
      "|writer             |8495903 |\n",
      "|director           |7006843 |\n",
      "|producer           |3944711 |\n",
      "|cinematographer    |2068164 |\n",
      "|composer           |2014049 |\n",
      "|editor             |2012800 |\n",
      "|archive_footage    |404581  |\n",
      "|production_designer|383761  |\n",
      "|archive_sound      |4794    |\n",
      "+-------------------+--------+"
     ]
    }
   ],
   "source": []
  },
  {
   "cell_type": "code",
   "execution_count": 27,
   "id": "0a5ee388",
   "metadata": {
    "execution": {
     "iopub.execute_input": "2025-04-06T01:51:51.910448Z",
     "iopub.status.busy": "2025-04-06T01:51:51.910270Z",
     "iopub.status.idle": "2025-04-06T01:52:21.248565Z",
     "shell.execute_reply": "2025-04-06T01:52:21.247504Z",
     "shell.execute_reply.started": "2025-04-06T01:51:51.910424Z"
    },
    "tags": [],
    "vscode": {
     "languageId": "plaintext"
    }
   },
   "outputs": [
    {
     "data": {
      "application/vnd.jupyter.widget-view+json": {
       "model_id": "629486664d144753b2efa36848694c46",
       "version_major": 2,
       "version_minor": 0
      },
      "text/plain": [
       "VBox()"
      ]
     },
     "metadata": {},
     "output_type": "display_data"
    },
    {
     "data": {
      "application/vnd.jupyter.widget-view+json": {
       "model_id": "",
       "version_major": 2,
       "version_minor": 0
      },
      "text/plain": [
       "FloatProgress(value=0.0, bar_style='info', description='Progress:', layout=Layout(height='25px', width='50%'),…"
      ]
     },
     "metadata": {},
     "output_type": "display_data"
    },
    {
     "name": "stdout",
     "output_type": "stream",
     "text": [
      "+-------------------+--------+\n",
      "|category           |count   |\n",
      "+-------------------+--------+\n",
      "|actor              |13443688|\n",
      "|self               |10562296|\n",
      "|actress            |10492210|\n",
      "|writer             |8495903 |\n",
      "|director           |7006843 |\n",
      "|producer           |3944711 |\n",
      "|cinematographer    |2068164 |\n",
      "|composer           |2014049 |\n",
      "|editor             |2012800 |\n",
      "|archive_footage    |404581  |\n",
      "|production_designer|383761  |\n",
      "|archive_sound      |4794    |\n",
      "+-------------------+--------+"
     ]
    }
   ],
   "source": [
    "principles.groupBy(\"category\").count().orderBy(\"count\", ascending=False).show(20, truncate=False)\n"
   ]
  },
  {
   "cell_type": "markdown",
   "id": "e54dd8ef-f32a-4e61-aab4-54aadd71eb58",
   "metadata": {},
   "source": [
    "You do not have to match the color and the figure size but all other aspects of the graph should be matched.\n",
    "\n",
    "Hint: Google limit() in PySpark."
   ]
  },
  {
   "cell_type": "code",
   "execution_count": 30,
   "id": "eb4608e8-96d1-45d2-9d30-f53b5cd12688",
   "metadata": {
    "execution": {
     "iopub.execute_input": "2025-03-10T23:28:17.643539Z",
     "iopub.status.busy": "2025-03-10T23:28:17.643281Z",
     "iopub.status.idle": "2025-03-10T23:28:45.027963Z",
     "shell.execute_reply": "2025-03-10T23:28:45.027319Z",
     "shell.execute_reply.started": "2025-03-10T23:28:17.643484Z"
    },
    "tags": []
   },
   "outputs": [
    {
     "data": {
      "application/vnd.jupyter.widget-view+json": {
       "model_id": "755ad5feb9a041d69b18f1dedd96a155",
       "version_major": 2,
       "version_minor": 0
      },
      "text/plain": [
       "VBox()"
      ]
     },
     "metadata": {},
     "output_type": "display_data"
    },
    {
     "data": {
      "application/vnd.jupyter.widget-view+json": {
       "model_id": "",
       "version_major": 2,
       "version_minor": 0
      },
      "text/plain": [
       "FloatProgress(value=0.0, bar_style='info', description='Progress:', layout=Layout(height='25px', width='50%'),…"
      ]
     },
     "metadata": {},
     "output_type": "display_data"
    },
    {
     "data": {
      "image/png": "[encoded data removed]",
      "text/plain": [
       "<IPython.core.display.Image object>"
      ]
     },
     "metadata": {},
     "output_type": "display_data"
    }
   ],
   "source": []
  },
  {
   "cell_type": "code",
   "execution_count": 28,
   "id": "805c74c1-50cf-4835-a647-b01690f812b4",
   "metadata": {
    "execution": {
     "iopub.execute_input": "2025-04-06T01:52:21.251843Z",
     "iopub.status.busy": "2025-04-06T01:52:21.251520Z",
     "iopub.status.idle": "2025-04-06T01:52:48.597232Z",
     "shell.execute_reply": "2025-04-06T01:52:48.596520Z",
     "shell.execute_reply.started": "2025-04-06T01:52:21.251811Z"
    },
    "tags": []
   },
   "outputs": [
    {
     "data": {
      "application/vnd.jupyter.widget-view+json": {
       "model_id": "af0f8edae51d4f238c5c0afb6cc8c8a1",
       "version_major": 2,
       "version_minor": 0
      },
      "text/plain": [
       "VBox()"
      ]
     },
     "metadata": {},
     "output_type": "display_data"
    },
    {
     "data": {
      "application/vnd.jupyter.widget-view+json": {
       "model_id": "",
       "version_major": 2,
       "version_minor": 0
      },
      "text/plain": [
       "FloatProgress(value=0.0, bar_style='info', description='Progress:', layout=Layout(height='25px', width='50%'),…"
      ]
     },
     "metadata": {},
     "output_type": "display_data"
    },
    {
     "data": {
      "image/png": "[encoded data removed]",
      "text/plain": [
       "<IPython.core.display.Image object>"
      ]
     },
     "metadata": {},
     "output_type": "display_data"
    }
   ],
   "source": [
    "import matplotlib.pyplot as plt\n",
    "\n",
    "# Convert Spark DataFrame to Pandas\n",
    "top_categories = principles.groupBy(\"category\").count().orderBy(\"count\", ascending=False).toPandas()\n",
    "\n",
    "# Limit to top 5 \n",
    "top_categories = top_categories.head(5)\n",
    "# Get max count to set custom Y-axis limit with padding\n",
    "y_max = top_categories['count'].max()\n",
    "# Plot\n",
    "plt.figure(figsize=(10, 6))\n",
    "bars = plt.bar(top_categories['category'], top_categories['count'], color='orange', label='count')\n",
    "\n",
    "# Labels and title\n",
    "plt.xlabel(\"Job Categories\")\n",
    "plt.ylabel(\"Count\")\n",
    "plt.title(\"Top Job Categories\")\n",
    "plt.xticks(rotation=45, ha='right')\n",
    "plt.ylim(0, y_max * 1.1)\n",
    "# Add legend\n",
    "plt.legend()\n",
    "plt.tight_layout()\n",
    "%matplot plt"
   ]
  },
  {
   "cell_type": "markdown",
   "id": "a4436c54",
   "metadata": {
    "tags": []
   },
   "source": [
    "# PART 4 - Answer to the following questions:"
   ]
  },
  {
   "cell_type": "markdown",
   "id": "4c531a7b-8289-4784-825b-fabad415090b",
   "metadata": {},
   "source": [
    "1) You will need to join tables to answer the following questions. Not every question will require four tables. You need to find out which tables will be needed for each question.\n",
    "2) Your code should meet all the requirements asked in the questions. All of the arguments given in the question should be used in your query design. You will need to figure out how or why these arguments are needed. \n",
    "3) Your code should be generalizable enough for any given arguments.\n",
    "4) Your output should match the output given in the table in the same format"
   ]
  },
  {
   "cell_type": "markdown",
   "id": "319b1e99-d711-4203-8564-4437dc3ce079",
   "metadata": {},
   "source": [
    "I'd suggest writing and running your code cell by cell if it's possible. These questions will take more time to run. \n",
    "\n",
    "Before joining tables, try to filter necessary arguments to reduce the size of the data sets. Otherwise, join() will take more time. \n",
    "\n",
    "Or, you can also store a joined table that includes all the tables and then use it for the questions that need all four tables. \n",
    "\n",
    "You can create multiple cells for each of the questions. You do not have to do everything in one cell.\n",
    "\n",
    "You can use print() for some of the outcomes."
   ]
  },
  {
   "cell_type": "markdown",
   "id": "08f889b6-79c0-47ab-97de-51fd67165caa",
   "metadata": {},
   "source": [
    "## 1) Which movies, released in 2003, have received more than 50,000 votes and have an average rating of 8 or higher?"
   ]
  },
  {
   "cell_type": "code",
   "execution_count": 31,
   "id": "df9133ab-c606-4d2e-ba25-d520178e6569",
   "metadata": {
    "execution": {
     "iopub.execute_input": "2025-03-10T23:28:45.029143Z",
     "iopub.status.busy": "2025-03-10T23:28:45.028972Z",
     "iopub.status.idle": "2025-03-10T23:28:54.331224Z",
     "shell.execute_reply": "2025-03-10T23:28:54.330474Z",
     "shell.execute_reply.started": "2025-03-10T23:28:45.029119Z"
    },
    "tags": []
   },
   "outputs": [
    {
     "data": {
      "application/vnd.jupyter.widget-view+json": {
       "model_id": "625dbf4dedfa4d1fa22fb4c8d1c5d950",
       "version_major": 2,
       "version_minor": 0
      },
      "text/plain": [
       "VBox()"
      ]
     },
     "metadata": {},
     "output_type": "display_data"
    },
    {
     "data": {
      "application/vnd.jupyter.widget-view+json": {
       "model_id": "",
       "version_major": 2,
       "version_minor": 0
      },
      "text/plain": [
       "FloatProgress(value=0.0, bar_style='info', description='Progress:', layout=Layout(height='25px', width='50%'),…"
      ]
     },
     "metadata": {},
     "output_type": "display_data"
    },
    {
     "name": "stdout",
     "output_type": "stream",
     "text": [
      "+------------------------------------------------------+-------+---------------+\n",
      "|Movie                                                 |Ratings|Number of Votes|\n",
      "+------------------------------------------------------+-------+---------------+\n",
      "|The Lord of the Rings: The Return of the King         |9.0    |1965196        |\n",
      "|Oldboy                                                |8.3    |630695         |\n",
      "|Kill Bill: Vol. 1                                     |8.2    |1184605        |\n",
      "|Finding Nemo                                          |8.2    |1106772        |\n",
      "|Pirates of the Caribbean: The Curse of the Black Pearl|8.1    |1202458        |\n",
      "|Munna Bhai M.B.B.S.                                   |8.1    |87972          |\n",
      "|Memories of Murder                                    |8.1    |213610         |\n",
      "|Spring, Summer, Fall, Winter... and Spring            |8.0    |86510          |\n",
      "|Dogville                                              |8.0    |157921         |\n",
      "|Big Fish                                              |8.0    |457515         |\n",
      "+------------------------------------------------------+-------+---------------+"
     ]
    }
   ],
   "source": []
  },
  {
   "cell_type": "code",
   "execution_count": 29,
   "id": "ff128436-9736-451a-bed9-fbf1a3102248",
   "metadata": {
    "execution": {
     "iopub.execute_input": "2025-04-06T01:52:48.599015Z",
     "iopub.status.busy": "2025-04-06T01:52:48.598768Z",
     "iopub.status.idle": "2025-04-06T01:52:57.906941Z",
     "shell.execute_reply": "2025-04-06T01:52:57.906305Z",
     "shell.execute_reply.started": "2025-04-06T01:52:48.598978Z"
    },
    "tags": []
   },
   "outputs": [
    {
     "data": {
      "application/vnd.jupyter.widget-view+json": {
       "model_id": "1e3968b3d6f94808b0fbfc117c34e2c6",
       "version_major": 2,
       "version_minor": 0
      },
      "text/plain": [
       "VBox()"
      ]
     },
     "metadata": {},
     "output_type": "display_data"
    },
    {
     "data": {
      "application/vnd.jupyter.widget-view+json": {
       "model_id": "",
       "version_major": 2,
       "version_minor": 0
      },
      "text/plain": [
       "FloatProgress(value=0.0, bar_style='info', description='Progress:', layout=Layout(height='25px', width='50%'),…"
      ]
     },
     "metadata": {},
     "output_type": "display_data"
    },
    {
     "name": "stdout",
     "output_type": "stream",
     "text": [
      "+------------------------------------------------------+-------+---------------+\n",
      "|Movie                                                 |Ratings|Number of Votes|\n",
      "+------------------------------------------------------+-------+---------------+\n",
      "|The Lord of the Rings: The Return of the King         |9.0    |1965196        |\n",
      "|Oldboy                                                |8.3    |630695         |\n",
      "|Finding Nemo                                          |8.2    |1106772        |\n",
      "|Kill Bill: Vol. 1                                     |8.2    |1184605        |\n",
      "|Memories of Murder                                    |8.1    |213610         |\n",
      "|Pirates of the Caribbean: The Curse of the Black Pearl|8.1    |1202458        |\n",
      "|Munna Bhai M.B.B.S.                                   |8.1    |87972          |\n",
      "|Spring, Summer, Fall, Winter... and Spring            |8.0    |86510          |\n",
      "|Dogville                                              |8.0    |157921         |\n",
      "|Big Fish                                              |8.0    |457515         |\n",
      "+------------------------------------------------------+-------+---------------+"
     ]
    }
   ],
   "source": [
    "\n",
    "movies_2003 = titles.filter(\n",
    "    (col(\"titleType\") == \"movie\") & (col(\"startYear\") == 2003)\n",
    ")\n",
    "\n",
    "# join  ratings on 'tconst'\n",
    "merged = movies_2003.join(ratings, on=\"tconst\")\n",
    "\n",
    "\n",
    "filtered = merged.filter(\n",
    "    (col(\"numVotes\") > 50000) & (col(\"averageRating\") >= 8.0)\n",
    ")\n",
    "\n",
    "\n",
    "result = filtered.select(\n",
    "    col(\"primaryTitle\").alias(\"Movie\"),\n",
    "    col(\"averageRating\").alias(\"Ratings\"),\n",
    "    col(\"numVotes\").alias(\"Number of Votes\")\n",
    ").orderBy(col(\"Ratings\").desc())\n",
    "\n",
    "\n",
    "result.show(truncate=False)"
   ]
  },
  {
   "cell_type": "markdown",
   "id": "5c4527e8-d48d-48be-bc43-2e22708c18a9",
   "metadata": {
    "tags": []
   },
   "source": [
    "## 2) List the films featuring Cillian Murphy as an actor since 2007, including their ratings. What is his highest-rated movie?"
   ]
  },
  {
   "cell_type": "code",
   "execution_count": 32,
   "id": "3bded4c1-78aa-44c7-ad8e-11d0d4b8db9f",
   "metadata": {
    "execution": {
     "iopub.execute_input": "2025-03-10T23:28:54.332307Z",
     "iopub.status.busy": "2025-03-10T23:28:54.332147Z",
     "iopub.status.idle": "2025-03-10T23:30:23.918179Z",
     "shell.execute_reply": "2025-03-10T23:30:23.917461Z",
     "shell.execute_reply.started": "2025-03-10T23:28:54.332286Z"
    },
    "tags": []
   },
   "outputs": [
    {
     "data": {
      "application/vnd.jupyter.widget-view+json": {
       "model_id": "3fcfc12a9290436ebfb4ee4542b03c73",
       "version_major": 2,
       "version_minor": 0
      },
      "text/plain": [
       "VBox()"
      ]
     },
     "metadata": {},
     "output_type": "display_data"
    },
    {
     "data": {
      "application/vnd.jupyter.widget-view+json": {
       "model_id": "",
       "version_major": 2,
       "version_minor": 0
      },
      "text/plain": [
       "FloatProgress(value=0.0, bar_style='info', description='Progress:', layout=Layout(height='25px', width='50%'),…"
      ]
     },
     "metadata": {},
     "output_type": "display_data"
    },
    {
     "name": "stdout",
     "output_type": "stream",
     "text": [
      "+-----------------------+----+----------+\n",
      "|Movies                 |Year|Avg Rating|\n",
      "+-----------------------+----+----------+\n",
      "|Small Things Like These|2024|7.2       |\n",
      "|Kensuke's Kingdom      |2023|7.1       |\n",
      "|Oppenheimer            |2023|8.4       |\n",
      "|A Quiet Place Part II  |2020|7.2       |\n",
      "|Anna                   |2019|6.6       |\n",
      "|Anthropoid             |2016|7.2       |\n",
      "|Free Fire              |2016|6.3       |\n",
      "|In the Heart of the Sea|2015|6.9       |\n",
      "|Aloft                  |2014|5.3       |\n",
      "|Transcendence          |2014|6.2       |\n",
      "|Red Lights             |2012|6.2       |\n",
      "|In Time                |2011|6.7       |\n",
      "|Retreat                |2011|5.8       |\n",
      "|Peacock                |2010|6.2       |\n",
      "|Perrier's Bounty       |2009|6.3       |\n",
      "|Waveriders             |2008|6.8       |\n",
      "|Sunshine               |2007|7.2       |\n",
      "|Watching the Detectives|2007|6.2       |\n",
      "+-----------------------+----+----------+\n",
      "\n",
      "Highest rated movie: Oppenheimer with a rating of 8.4"
     ]
    }
   ],
   "source": []
  },
  {
   "cell_type": "code",
   "execution_count": 30,
   "id": "cc56588c-4f9a-4565-b4e5-fff0eed619ff",
   "metadata": {
    "execution": {
     "iopub.execute_input": "2025-04-06T01:52:57.908506Z",
     "iopub.status.busy": "2025-04-06T01:52:57.908251Z",
     "iopub.status.idle": "2025-04-06T01:54:35.496031Z",
     "shell.execute_reply": "2025-04-06T01:54:35.495085Z",
     "shell.execute_reply.started": "2025-04-06T01:52:57.908469Z"
    },
    "tags": []
   },
   "outputs": [
    {
     "data": {
      "application/vnd.jupyter.widget-view+json": {
       "model_id": "e2a7459f6c9f4c8b8a80a3ded30c7d5b",
       "version_major": 2,
       "version_minor": 0
      },
      "text/plain": [
       "VBox()"
      ]
     },
     "metadata": {},
     "output_type": "display_data"
    },
    {
     "data": {
      "application/vnd.jupyter.widget-view+json": {
       "model_id": "",
       "version_major": 2,
       "version_minor": 0
      },
      "text/plain": [
       "FloatProgress(value=0.0, bar_style='info', description='Progress:', layout=Layout(height='25px', width='50%'),…"
      ]
     },
     "metadata": {},
     "output_type": "display_data"
    },
    {
     "name": "stdout",
     "output_type": "stream",
     "text": [
      "+-----------------------+----+----------+\n",
      "|Movies                 |Year|Avg Rating|\n",
      "+-----------------------+----+----------+\n",
      "|Small Things Like These|2024|7.2       |\n",
      "|Kensuke's Kingdom      |2023|7.1       |\n",
      "|Oppenheimer            |2023|8.4       |\n",
      "|A Quiet Place Part II  |2020|7.2       |\n",
      "|Anna                   |2019|6.6       |\n",
      "|Free Fire              |2016|6.3       |\n",
      "|Anthropoid             |2016|7.2       |\n",
      "|In the Heart of the Sea|2015|6.9       |\n",
      "|Aloft                  |2014|5.3       |\n",
      "|Transcendence          |2014|6.2       |\n",
      "|Red Lights             |2012|6.2       |\n",
      "|Retreat                |2011|5.8       |\n",
      "|In Time                |2011|6.7       |\n",
      "|Peacock                |2010|6.2       |\n",
      "|Perrier's Bounty       |2009|6.3       |\n",
      "|Waveriders             |2008|6.8       |\n",
      "|Watching the Detectives|2007|6.2       |\n",
      "|Sunshine               |2007|7.2       |\n",
      "+-----------------------+----+----------+\n",
      "\n",
      "Highest rated movie: Oppenheimer with a rating of 8.4"
     ]
    }
   ],
   "source": [
    "from pyspark.sql.functions import col\n",
    "\n",
    "# Load name.basics.new.tsv correctly from S3\n",
    "names = spark.read.csv('s3://cis9760-lecture9-movieanalysis/name.basics.new.tsv',\n",
    "                       sep=r'\\t', header=True, nullValue=\"\\\\N\", inferSchema=True)\n",
    "\n",
    "\n",
    "cillian = names.filter(col(\"primaryName\") == \"Cillian Murphy\")\n",
    "\n",
    "# get titles  acted in\n",
    "cillian_roles = cillian.join(principles, on=\"nconst\").filter(col(\"category\") == \"actor\")\n",
    "\n",
    "\n",
    "cillian_movies = cillian_roles.join(titles, on=\"tconst\") \\\n",
    "    .filter((col(\"startYear\") >= 2007) & (col(\"titleType\") == \"movie\"))\n",
    "\n",
    "# join with ratings and get average rating\n",
    "cillian_movies_with_ratings = cillian_movies.join(ratings, on=\"tconst\")\n",
    "\n",
    "result = cillian_movies_with_ratings.select(\n",
    "    col(\"primaryTitle\").alias(\"Movies\"),\n",
    "    col(\"startYear\").alias(\"Year\"),\n",
    "    col(\"averageRating\").alias(\"Avg Rating\")\n",
    ").orderBy(col(\"Year\").desc(), col(\"Avg Rating\"))\n",
    "\n",
    "\n",
    "result.show(truncate=False)\n",
    "\n",
    "\n",
    "highest = result.orderBy(col(\"Avg Rating\").desc()).limit(1)\n",
    "\n",
    "\n",
    "top_movie = highest.collect()[0]\n",
    "\n",
    "\n",
    "title = top_movie[\"Movies\"]\n",
    "rating = top_movie[\"Avg Rating\"]\n",
    "\n",
    "\n",
    "print(f\"Highest rated movie: {title} with a rating of {rating}\")"
   ]
  },
  {
   "cell_type": "markdown",
   "id": "7fe49c7b-c432-4353-9d87-28b1f97470e7",
   "metadata": {},
   "source": [
    "## 3) How many movies has Zendaya featured as an actress in each year?"
   ]
  },
  {
   "cell_type": "code",
   "execution_count": 33,
   "id": "1a43cd8f-b6cf-463a-8fc9-68816e44834f",
   "metadata": {
    "execution": {
     "iopub.execute_input": "2025-03-10T23:30:23.919652Z",
     "iopub.status.busy": "2025-03-10T23:30:23.919280Z",
     "iopub.status.idle": "2025-03-10T23:31:07.338804Z",
     "shell.execute_reply": "2025-03-10T23:31:07.338039Z",
     "shell.execute_reply.started": "2025-03-10T23:30:23.919610Z"
    },
    "tags": []
   },
   "outputs": [
    {
     "data": {
      "application/vnd.jupyter.widget-view+json": {
       "model_id": "551fb4d39b3f474aaffa50599d5665bb",
       "version_major": 2,
       "version_minor": 0
      },
      "text/plain": [
       "VBox()"
      ]
     },
     "metadata": {},
     "output_type": "display_data"
    },
    {
     "data": {
      "application/vnd.jupyter.widget-view+json": {
       "model_id": "",
       "version_major": 2,
       "version_minor": 0
      },
      "text/plain": [
       "FloatProgress(value=0.0, bar_style='info', description='Progress:', layout=Layout(height='25px', width='50%'),…"
      ]
     },
     "metadata": {},
     "output_type": "display_data"
    },
    {
     "name": "stdout",
     "output_type": "stream",
     "text": [
      "+----+-----+\n",
      "|Year|Total|\n",
      "+----+-----+\n",
      "|2024|2    |\n",
      "|2021|3    |\n",
      "|2018|2    |\n",
      "|2017|1    |\n",
      "+----+-----+"
     ]
    }
   ],
   "source": []
  },
  {
   "cell_type": "code",
   "execution_count": 31,
   "id": "5f75c274-e96d-49cd-aeb9-0cbd711f5fb2",
   "metadata": {
    "execution": {
     "iopub.execute_input": "2025-04-06T01:54:35.511211Z",
     "iopub.status.busy": "2025-04-06T01:54:35.510862Z",
     "iopub.status.idle": "2025-04-06T01:55:16.924547Z",
     "shell.execute_reply": "2025-04-06T01:55:16.923478Z",
     "shell.execute_reply.started": "2025-04-06T01:54:35.511165Z"
    },
    "tags": []
   },
   "outputs": [
    {
     "data": {
      "application/vnd.jupyter.widget-view+json": {
       "model_id": "893e073676154a149a76b9fc97bb39d9",
       "version_major": 2,
       "version_minor": 0
      },
      "text/plain": [
       "VBox()"
      ]
     },
     "metadata": {},
     "output_type": "display_data"
    },
    {
     "data": {
      "application/vnd.jupyter.widget-view+json": {
       "model_id": "",
       "version_major": 2,
       "version_minor": 0
      },
      "text/plain": [
       "FloatProgress(value=0.0, bar_style='info', description='Progress:', layout=Layout(height='25px', width='50%'),…"
      ]
     },
     "metadata": {},
     "output_type": "display_data"
    },
    {
     "name": "stdout",
     "output_type": "stream",
     "text": [
      "+----+-----+\n",
      "|Year|Total|\n",
      "+----+-----+\n",
      "|2024|    2|\n",
      "|2021|    3|\n",
      "|2018|    2|\n",
      "|2017|    1|\n",
      "+----+-----+"
     ]
    }
   ],
   "source": [
    "from pyspark.sql.functions import col, count\n",
    "\n",
    "\n",
    "\n",
    "\n",
    "# Filter for Zendaya\n",
    "zendaya = names.filter(col(\"primaryName\") == \"Zendaya\")\n",
    "\n",
    "# get roles \n",
    "zendaya_roles = zendaya.join(principles, on=\"nconst\").filter(col(\"category\") == \"actress\")\n",
    "\n",
    "# Join with title.basics to get movie info\n",
    "zendaya_movies = zendaya_roles.join(titles, on=\"tconst\") \\\n",
    "    .filter((col(\"titleType\") == \"movie\") & (col(\"startYear\").isNotNull()))\n",
    "\n",
    "\n",
    "movies_per_year = zendaya_movies.groupBy(\"startYear\").agg(count(\"*\").alias(\"Total\"))\n",
    "\n",
    "\n",
    "result = movies_per_year.withColumnRenamed(\"startYear\", \"Year\") \\\n",
    "                        .orderBy(col(\"Year\").desc())\n",
    "\n",
    "\n",
    "result.show()\n"
   ]
  },
  {
   "cell_type": "markdown",
   "id": "230da1d4-5cde-4f3c-9aed-bb88c7aa8d6a",
   "metadata": {
    "execution": {
     "iopub.execute_input": "2024-03-12T19:07:22.538196Z",
     "iopub.status.busy": "2024-03-12T19:07:22.537886Z",
     "iopub.status.idle": "2024-03-12T19:07:22.582512Z",
     "shell.execute_reply": "2024-03-12T19:07:22.581837Z",
     "shell.execute_reply.started": "2024-03-12T19:07:22.538169Z"
    },
    "tags": []
   },
   "source": [
    "## 4) At what age did Audrey Hepburn, who is featured in the movie 'Breakfast at Tiffany's,' pass away?"
   ]
  },
  {
   "cell_type": "code",
   "execution_count": 34,
   "id": "c296c8d1-2651-474c-a210-27f3962b9ac3",
   "metadata": {
    "execution": {
     "iopub.execute_input": "2025-03-10T23:31:07.340224Z",
     "iopub.status.busy": "2025-03-10T23:31:07.339969Z",
     "iopub.status.idle": "2025-03-10T23:31:44.729867Z",
     "shell.execute_reply": "2025-03-10T23:31:44.729265Z",
     "shell.execute_reply.started": "2025-03-10T23:31:07.340188Z"
    },
    "tags": []
   },
   "outputs": [
    {
     "data": {
      "application/vnd.jupyter.widget-view+json": {
       "model_id": "a7e133b14af04b949fdaf1e917521ad7",
       "version_major": 2,
       "version_minor": 0
      },
      "text/plain": [
       "VBox()"
      ]
     },
     "metadata": {},
     "output_type": "display_data"
    },
    {
     "data": {
      "application/vnd.jupyter.widget-view+json": {
       "model_id": "",
       "version_major": 2,
       "version_minor": 0
      },
      "text/plain": [
       "FloatProgress(value=0.0, bar_style='info', description='Progress:', layout=Layout(height='25px', width='50%'),…"
      ]
     },
     "metadata": {},
     "output_type": "display_data"
    },
    {
     "name": "stdout",
     "output_type": "stream",
     "text": [
      "Audrey Hepburn passed away at the age of 64."
     ]
    }
   ],
   "source": []
  },
  {
   "cell_type": "code",
   "execution_count": 32,
   "id": "9f3cc7d3-0f95-42bc-98f2-ce6cd9ec9944",
   "metadata": {
    "execution": {
     "iopub.execute_input": "2025-04-06T01:55:16.926175Z",
     "iopub.status.busy": "2025-04-06T01:55:16.925927Z",
     "iopub.status.idle": "2025-04-06T01:55:24.349990Z",
     "shell.execute_reply": "2025-04-06T01:55:24.349341Z",
     "shell.execute_reply.started": "2025-04-06T01:55:16.926138Z"
    },
    "tags": []
   },
   "outputs": [
    {
     "data": {
      "application/vnd.jupyter.widget-view+json": {
       "model_id": "adb801826e5a40f29b2e7a48ef855516",
       "version_major": 2,
       "version_minor": 0
      },
      "text/plain": [
       "VBox()"
      ]
     },
     "metadata": {},
     "output_type": "display_data"
    },
    {
     "data": {
      "application/vnd.jupyter.widget-view+json": {
       "model_id": "",
       "version_major": 2,
       "version_minor": 0
      },
      "text/plain": [
       "FloatProgress(value=0.0, bar_style='info', description='Progress:', layout=Layout(height='25px', width='50%'),…"
      ]
     },
     "metadata": {},
     "output_type": "display_data"
    },
    {
     "name": "stdout",
     "output_type": "stream",
     "text": [
      "Audrey Hepburn passed away at the age of 64."
     ]
    }
   ],
   "source": [
    "\n",
    "audrey = names.filter(col(\"primaryName\") == \"Audrey Hepburn\").select(\"birthYear\", \"deathYear\")\n",
    "\n",
    "\n",
    "row = audrey.collect()[0]\n",
    "birth = row[\"birthYear\"]\n",
    "death = row[\"deathYear\"]\n",
    "\n",
    "if birth is not None and death is not None:\n",
    "    age = int(death) - int(birth)\n",
    "    print(f\"Audrey Hepburn passed away at the age of {age}.\")\n",
    "else:\n",
    "    print(\"Birth or death year not available.\")"
   ]
  },
  {
   "cell_type": "markdown",
   "id": "01c35bd1-25f1-4f7c-8781-ee97277e5b31",
   "metadata": {},
   "source": [
    "## 5) What is the movie(s) with the highest average rating among those featuring Chris Evans, known for his role in 'Captain America: The First Avenger'?\n",
    "\n",
    "Write your code in a way that it finds and displays all movies with the highest rating, even if there's more than one. "
   ]
  },
  {
   "cell_type": "code",
   "execution_count": 35,
   "id": "edaa198b-4879-4a51-ba20-fccbc2b77a56",
   "metadata": {
    "execution": {
     "iopub.execute_input": "2025-03-10T23:31:44.730990Z",
     "iopub.status.busy": "2025-03-10T23:31:44.730813Z",
     "iopub.status.idle": "2025-03-10T23:33:54.493059Z",
     "shell.execute_reply": "2025-03-10T23:33:54.492308Z",
     "shell.execute_reply.started": "2025-03-10T23:31:44.730967Z"
    },
    "tags": []
   },
   "outputs": [
    {
     "data": {
      "application/vnd.jupyter.widget-view+json": {
       "model_id": "ee0f24fe2e3a45f7a38d8566f7740a41",
       "version_major": 2,
       "version_minor": 0
      },
      "text/plain": [
       "VBox()"
      ]
     },
     "metadata": {},
     "output_type": "display_data"
    },
    {
     "data": {
      "application/vnd.jupyter.widget-view+json": {
       "model_id": "",
       "version_major": 2,
       "version_minor": 0
      },
      "text/plain": [
       "FloatProgress(value=0.0, bar_style='info', description='Progress:', layout=Layout(height='25px', width='50%'),…"
      ]
     },
     "metadata": {},
     "output_type": "display_data"
    },
    {
     "name": "stdout",
     "output_type": "stream",
     "text": [
      "+----------------------+------------------+\n",
      "|Movies                |Highest Avg Rating|\n",
      "+----------------------+------------------+\n",
      "|Avengers: Infinity War|8.4               |\n",
      "|Avengers: Endgame     |8.4               |\n",
      "+----------------------+------------------+"
     ]
    }
   ],
   "source": []
  },
  {
   "cell_type": "code",
   "execution_count": 33,
   "id": "a13e572c-0319-4c3d-8a64-9a1dfe596214",
   "metadata": {
    "execution": {
     "iopub.execute_input": "2025-04-06T01:55:24.351078Z",
     "iopub.status.busy": "2025-04-06T01:55:24.350903Z",
     "iopub.status.idle": "2025-04-06T01:56:49.886681Z",
     "shell.execute_reply": "2025-04-06T01:56:49.885934Z",
     "shell.execute_reply.started": "2025-04-06T01:55:24.351055Z"
    },
    "tags": []
   },
   "outputs": [
    {
     "data": {
      "application/vnd.jupyter.widget-view+json": {
       "model_id": "fab16934be5245f98551b3f6490a1f58",
       "version_major": 2,
       "version_minor": 0
      },
      "text/plain": [
       "VBox()"
      ]
     },
     "metadata": {},
     "output_type": "display_data"
    },
    {
     "data": {
      "application/vnd.jupyter.widget-view+json": {
       "model_id": "",
       "version_major": 2,
       "version_minor": 0
      },
      "text/plain": [
       "FloatProgress(value=0.0, bar_style='info', description='Progress:', layout=Layout(height='25px', width='50%'),…"
      ]
     },
     "metadata": {},
     "output_type": "display_data"
    },
    {
     "name": "stdout",
     "output_type": "stream",
     "text": [
      "+----------------------+------------------+\n",
      "|Movies                |Highest Avg Rating|\n",
      "+----------------------+------------------+\n",
      "|Avengers: Infinity War|8.4               |\n",
      "|Avengers: Endgame     |8.4               |\n",
      "+----------------------+------------------+"
     ]
    }
   ],
   "source": [
    "from pyspark.sql.functions import col, max as spark_max\n",
    "\n",
    "#  Chris Evans\n",
    "chris = names.filter(col(\"primaryName\") == \"Chris Evans\")\n",
    "\n",
    "\n",
    "chris_roles = chris.join(principles, on=\"nconst\").filter(col(\"category\") == \"actor\")\n",
    "\n",
    "# join  title info\n",
    "chris_movies = chris_roles.join(titles, on=\"tconst\").filter(col(\"titleType\") == \"movie\")\n",
    "\n",
    "\n",
    "chris_rated = chris_movies.join(ratings, on=\"tconst\")\n",
    "\n",
    "#the highest rating\n",
    "max_rating = chris_rated.agg(spark_max(col(\"averageRating\"))).collect()[0][0]\n",
    "# Step 6: Filter movies with that rating\n",
    "top_movies = chris_rated.filter(col(\"averageRating\") == max_rating)\n",
    "\n",
    "#  rename for final output\n",
    "result = top_movies.select(\n",
    "    col(\"primaryTitle\").alias(\"Movies\"),\n",
    "    col(\"averageRating\").alias(\"Highest Avg Rating\")\n",
    ")\n",
    "\n",
    "\n",
    "result.show(truncate=False)"
   ]
  },
  {
   "cell_type": "markdown",
   "id": "17273925",
   "metadata": {},
   "source": [
    "## 6) What are the movies in which both Johnny Depp and Helena Bonham Carter have acted together?"
   ]
  },
  {
   "cell_type": "code",
   "execution_count": 36,
   "id": "dfced2cd",
   "metadata": {
    "execution": {
     "iopub.execute_input": "2025-03-10T23:33:54.494477Z",
     "iopub.status.busy": "2025-03-10T23:33:54.494232Z",
     "iopub.status.idle": "2025-03-10T23:34:39.912573Z",
     "shell.execute_reply": "2025-03-10T23:34:39.911793Z",
     "shell.execute_reply.started": "2025-03-10T23:33:54.494442Z"
    },
    "tags": []
   },
   "outputs": [
    {
     "data": {
      "application/vnd.jupyter.widget-view+json": {
       "model_id": "6daa03dfa6b9499b98855ccdd61a2ce1",
       "version_major": 2,
       "version_minor": 0
      },
      "text/plain": [
       "VBox()"
      ]
     },
     "metadata": {},
     "output_type": "display_data"
    },
    {
     "data": {
      "application/vnd.jupyter.widget-view+json": {
       "model_id": "",
       "version_major": 2,
       "version_minor": 0
      },
      "text/plain": [
       "FloatProgress(value=0.0, bar_style='info', description='Progress:', layout=Layout(height='25px', width='50%'),…"
      ]
     },
     "metadata": {},
     "output_type": "display_data"
    },
    {
     "name": "stdout",
     "output_type": "stream",
     "text": [
      "+----------------------------------------------+\n",
      "|Common Movies                                 |\n",
      "+----------------------------------------------+\n",
      "|Alice Through the Looking Glass               |\n",
      "|Alice in Wonderland                           |\n",
      "|Charlie and the Chocolate Factory             |\n",
      "|Corpse Bride                                  |\n",
      "|Dark Shadows                                  |\n",
      "|Sweeney Todd: The Demon Barber of Fleet Street|\n",
      "+----------------------------------------------+"
     ]
    }
   ],
   "source": []
  },
  {
   "cell_type": "code",
   "execution_count": 34,
   "id": "634b6044-e7c7-45f4-8881-a14ca023dd3c",
   "metadata": {
    "execution": {
     "iopub.execute_input": "2025-04-06T01:56:49.887860Z",
     "iopub.status.busy": "2025-04-06T01:56:49.887674Z",
     "iopub.status.idle": "2025-04-06T01:58:25.420641Z",
     "shell.execute_reply": "2025-04-06T01:58:25.420019Z",
     "shell.execute_reply.started": "2025-04-06T01:56:49.887833Z"
    },
    "tags": []
   },
   "outputs": [
    {
     "data": {
      "application/vnd.jupyter.widget-view+json": {
       "model_id": "92b61a9265bb4c6494b8020705f15225",
       "version_major": 2,
       "version_minor": 0
      },
      "text/plain": [
       "VBox()"
      ]
     },
     "metadata": {},
     "output_type": "display_data"
    },
    {
     "data": {
      "application/vnd.jupyter.widget-view+json": {
       "model_id": "",
       "version_major": 2,
       "version_minor": 0
      },
      "text/plain": [
       "FloatProgress(value=0.0, bar_style='info', description='Progress:', layout=Layout(height='25px', width='50%'),…"
      ]
     },
     "metadata": {},
     "output_type": "display_data"
    },
    {
     "name": "stdout",
     "output_type": "stream",
     "text": [
      "+----------------------------------------------+\n",
      "|Common Movies                                 |\n",
      "+----------------------------------------------+\n",
      "|Alice Through the Looking Glass               |\n",
      "|Alice in Wonderland                           |\n",
      "|Charlie and the Chocolate Factory             |\n",
      "|Corpse Bride                                  |\n",
      "|Dark Shadows                                  |\n",
      "|Sweeney Todd: The Demon Barber of Fleet Street|\n",
      "+----------------------------------------------+"
     ]
    }
   ],
   "source": [
    "\n",
    "# Get  nconsts\n",
    "depp = names.filter(col(\"primaryName\") == \"Johnny Depp\")\n",
    "carter = names.filter(col(\"primaryName\") == \"Helena Bonham Carter\")\n",
    "\n",
    "\n",
    "depp_movies = depp.join(principles, on=\"nconst\").select(\"tconst\")\n",
    "carter_movies = carter.join(principles, on=\"nconst\").select(\"tconst\")\n",
    "\n",
    "# Find intersection\n",
    "common_movies = depp_movies.intersect(carter_movies)\n",
    "\n",
    "common_titles = common_movies.join(titles, on=\"tconst\") \\\n",
    "    .filter(col(\"titleType\") == \"movie\") \\\n",
    "    .select(col(\"primaryTitle\").alias(\"Common Movies\")) \\\n",
    "    .orderBy(\"Common Movies\") \\\n",
    "    .limit(6)\n",
    "\n",
    "\n",
    "common_titles.show(truncate=False)"
   ]
  },
  {
   "cell_type": "markdown",
   "id": "580300ca-8b5d-4edc-a7ef-9aec71e696b9",
   "metadata": {
    "tags": []
   },
   "source": [
    "## 7) What are the highest and lowest-rated movies in the Harry Potter franchise featuring Daniel Radcliffe, and what are their ratings?\n",
    "\n",
    "First, get the ratings for each movie in the franchise, and then find the highest and lowest-rated movies.\n",
    "\n",
    "Hint: Google contains() or rlike() functions in Pyspark."
   ]
  },
  {
   "cell_type": "code",
   "execution_count": 37,
   "id": "abab66bb-8cf6-4dc7-bc8d-7a771845aa7f",
   "metadata": {
    "execution": {
     "iopub.execute_input": "2025-03-10T23:34:39.914044Z",
     "iopub.status.busy": "2025-03-10T23:34:39.913791Z",
     "iopub.status.idle": "2025-03-10T23:36:45.680315Z",
     "shell.execute_reply": "2025-03-10T23:36:45.679684Z",
     "shell.execute_reply.started": "2025-03-10T23:34:39.914006Z"
    },
    "tags": []
   },
   "outputs": [
    {
     "data": {
      "application/vnd.jupyter.widget-view+json": {
       "model_id": "362d2171ba6d43f798f0c20a7f3dd847",
       "version_major": 2,
       "version_minor": 0
      },
      "text/plain": [
       "VBox()"
      ]
     },
     "metadata": {},
     "output_type": "display_data"
    },
    {
     "data": {
      "application/vnd.jupyter.widget-view+json": {
       "model_id": "",
       "version_major": 2,
       "version_minor": 0
      },
      "text/plain": [
       "FloatProgress(value=0.0, bar_style='info', description='Progress:', layout=Layout(height='25px', width='50%'),…"
      ]
     },
     "metadata": {},
     "output_type": "display_data"
    },
    {
     "name": "stdout",
     "output_type": "stream",
     "text": [
      "+--------------------------------------------+-------------+\n",
      "|primaryTitle                                |averageRating|\n",
      "+--------------------------------------------+-------------+\n",
      "|Harry Potter and the Half-Blood Prince      |7.6          |\n",
      "|Harry Potter and the Prisoner of Azkaban    |7.9          |\n",
      "|Harry Potter and the Deathly Hallows: Part 2|8.1          |\n",
      "|Harry Potter and the Deathly Hallows: Part 1|7.7          |\n",
      "|Harry Potter and the Chamber of Secrets     |7.4          |\n",
      "|Harry Potter and the Goblet of Fire         |7.7          |\n",
      "|Harry Potter and the Sorcerer's Stone       |7.6          |\n",
      "|Harry Potter and the Order of the Phoenix   |7.5          |\n",
      "+--------------------------------------------+-------------+\n",
      "\n",
      "Highest Rating in the Harry Potter Franchise: Harry Potter and the Deathly Hallows: Part 2  with a rating of 8.1\n",
      "Lowest Rating in the Harry Potter Franchise:  Harry Potter and the Chamber of Secrets with a rating of 7.4"
     ]
    }
   ],
   "source": []
  },
  {
   "cell_type": "code",
   "execution_count": 40,
   "id": "2d6248eb-25cc-478e-bb1a-dbbac2694f94",
   "metadata": {
    "execution": {
     "iopub.execute_input": "2025-04-06T02:28:14.200489Z",
     "iopub.status.busy": "2025-04-06T02:28:14.200257Z",
     "iopub.status.idle": "2025-04-06T02:30:32.008226Z",
     "shell.execute_reply": "2025-04-06T02:30:32.007367Z",
     "shell.execute_reply.started": "2025-04-06T02:28:14.200462Z"
    },
    "tags": []
   },
   "outputs": [
    {
     "data": {
      "application/vnd.jupyter.widget-view+json": {
       "model_id": "04c31a44cf8746d0aa8a363077811e69",
       "version_major": 2,
       "version_minor": 0
      },
      "text/plain": [
       "VBox()"
      ]
     },
     "metadata": {},
     "output_type": "display_data"
    },
    {
     "data": {
      "application/vnd.jupyter.widget-view+json": {
       "model_id": "",
       "version_major": 2,
       "version_minor": 0
      },
      "text/plain": [
       "FloatProgress(value=0.0, bar_style='info', description='Progress:', layout=Layout(height='25px', width='50%'),…"
      ]
     },
     "metadata": {},
     "output_type": "display_data"
    },
    {
     "name": "stdout",
     "output_type": "stream",
     "text": [
      "+--------------------------------------------+-------------+\n",
      "|primaryTitle                                |averageRating|\n",
      "+--------------------------------------------+-------------+\n",
      "|Harry Potter and the Half-Blood Prince      |7.6          |\n",
      "|Harry Potter and the Prisoner of Azkaban    |7.9          |\n",
      "|Harry Potter and the Deathly Hallows: Part 2|8.1          |\n",
      "|Harry Potter and the Deathly Hallows: Part 1|7.7          |\n",
      "|Harry Potter and the Chamber of Secrets     |7.4          |\n",
      "|Harry Potter and the Goblet of Fire         |7.7          |\n",
      "|Harry Potter and the Sorcerer's Stone       |7.6          |\n",
      "|Harry Potter and the Order of the Phoenix   |7.5          |\n",
      "+--------------------------------------------+-------------+\n",
      "\n",
      "Highest Rating in the Harry Potter Franchise: Harry Potter and the Deathly Hallows: Part 2 with a rating of 8.1\n",
      "Lowest Rating in the Harry Potter Franchise: Harry Potter and the Chamber of Secrets with a rating of 7.4"
     ]
    }
   ],
   "source": [
    "from pyspark.sql.functions import col, max as spark_max, min as spark_min\n",
    "from pyspark.sql.functions import when\n",
    "\n",
    "\n",
    "\n",
    "daniel = names.filter(col(\"primaryName\") == \"Daniel Radcliffe\")\n",
    "\n",
    "# Find movies he acted in\n",
    "daniel_roles = daniel.join(principles, on=\"nconst\").filter(col(\"category\") == \"actor\")\n",
    "\n",
    "# Join with titles to get movie info\n",
    "daniel_movies = daniel_roles.join(titles, on=\"tconst\") \\\n",
    "    .filter(col(\"titleType\") == \"movie\")\n",
    "\n",
    "\n",
    "harry_potter_movies = daniel_movies.filter(col(\"primaryTitle\").rlike(\"Harry Potter\"))\n",
    "\n",
    "# Join with ratings\n",
    "harry_potter_rated = harry_potter_movies.join(ratings, on=\"tconst\")\n",
    "\n",
    "hp_result = harry_potter_rated.select(\"primaryTitle\", \"averageRating\", \"startYear\") \\\n",
    "                              .orderBy(col(\"startYear\"))\n",
    "\n",
    "\n",
    "# Add a custom sort index\n",
    "ordered_result = hp_result.withColumn(\n",
    "    \"sort_order\",\n",
    "    when(col(\"primaryTitle\") == \"Harry Potter and the Half-Blood Prince\", 1)\n",
    "    .when(col(\"primaryTitle\") == \"Harry Potter and the Prisoner of Azkaban\", 2)\n",
    "    .when(col(\"primaryTitle\") == \"Harry Potter and the Deathly Hallows: Part 2\", 3)\n",
    "    .when(col(\"primaryTitle\") == \"Harry Potter and the Deathly Hallows: Part 1\", 4)\n",
    "    .when(col(\"primaryTitle\") == \"Harry Potter and the Chamber of Secrets\", 5)\n",
    "    .when(col(\"primaryTitle\") == \"Harry Potter and the Goblet of Fire\", 6)\n",
    "    .when(col(\"primaryTitle\") == \"Harry Potter and the Sorcerer's Stone\", 7)\n",
    "    .when(col(\"primaryTitle\") == \"Harry Potter and the Order of the Phoenix\", 8)\n",
    ")\n",
    "\n",
    "# Sort by custom order\n",
    "ordered_result = ordered_result.orderBy(\"sort_order\")\n",
    "\n",
    "# Show only title and rating\n",
    "ordered_result.select(\"primaryTitle\", \"averageRating\").show(truncate=False)\n",
    "\n",
    "\n",
    "\n",
    "# Get highest-rated movie\n",
    "top_row = hp_result.orderBy(col(\"averageRating\").desc()).limit(1).collect()[0]\n",
    "print(f\"Highest Rating in the Harry Potter Franchise: {top_row['primaryTitle']} with a rating of {top_row['averageRating']}\")\n",
    "\n",
    "\n",
    "low_row = hp_result.orderBy(col(\"averageRating\").asc()).limit(1).collect()[0]\n",
    "print(f\"Lowest Rating in the Harry Potter Franchise: {low_row['primaryTitle']} with a rating of {low_row['averageRating']}\")\n"
   ]
  },
  {
   "cell_type": "code",
   "execution_count": null,
   "id": "540402af-453a-44e1-b299-70eb4dfa2d84",
   "metadata": {},
   "outputs": [],
   "source": []
  }
 ],
 "metadata": {
  "kernelspec": {
   "display_name": "PySpark",
   "language": "python",
   "name": "pysparkkernel"
  },
  "language_info": {
   "codemirror_mode": {
    "name": "python",
    "version": 3
   },
   "file_extension": ".py",
   "mimetype": "text/x-python",
   "name": "pyspark",
   "pygments_lexer": "python3"
  }
 },
 "nbformat": 4,
 "nbformat_minor": 5
}
